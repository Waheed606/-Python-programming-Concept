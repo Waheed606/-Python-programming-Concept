{
 "cells": [
  {
   "cell_type": "markdown",
   "id": "be8fee12-2646-4822-9b8d-6a9061f41f06",
   "metadata": {},
   "source": [
    "## Guess a number Game"
   ]
  },
  {
   "cell_type": "markdown",
   "id": "a24a2b26-66b8-4d8e-93fd-9190efb5b855",
   "metadata": {},
   "source": [
    "------------"
   ]
  },
  {
   "cell_type": "code",
   "execution_count": 3,
   "id": "ca80be9a",
   "metadata": {},
   "outputs": [
    {
     "name": "stdout",
     "output_type": "stream",
     "text": [
      "hello\n"
     ]
    }
   ],
   "source": [
    "print(\"hello\")"
   ]
  },
  {
   "cell_type": "code",
   "execution_count": 2,
   "id": "64e7cfe3-da84-46a0-b045-0776a482d171",
   "metadata": {
    "scrolled": true
   },
   "outputs": [
    {
     "ename": "TypeError",
     "evalue": "unsupported operand type(s) for +: 'NoneType' and 'int'",
     "output_type": "error",
     "traceback": [
      "\u001b[31m---------------------------------------------------------------------------\u001b[39m",
      "\u001b[31mTypeError\u001b[39m                                 Traceback (most recent call last)",
      "\u001b[36mCell\u001b[39m\u001b[36m \u001b[39m\u001b[32mIn[2]\u001b[39m\u001b[32m, line 77\u001b[39m\n\u001b[32m     71\u001b[39m             \u001b[38;5;28;01mreturn\u001b[39;00m \u001b[32m20\u001b[39m\n\u001b[32m     76\u001b[39m Play1=Guess_number()\n\u001b[32m---> \u001b[39m\u001b[32m77\u001b[39m \u001b[43mPlay1\u001b[49m\u001b[43m.\u001b[49m\u001b[43mgame\u001b[49m\u001b[43m(\u001b[49m\u001b[43m)\u001b[49m\n",
      "\u001b[36mCell\u001b[39m\u001b[36m \u001b[39m\u001b[32mIn[2]\u001b[39m\u001b[32m, line 14\u001b[39m, in \u001b[36mGuess_number.game\u001b[39m\u001b[34m(self)\u001b[39m\n\u001b[32m     11\u001b[39m \u001b[38;5;28;01mdef\u001b[39;00m\u001b[38;5;250m \u001b[39m\u001b[34mgame\u001b[39m(\u001b[38;5;28mself\u001b[39m):\n\u001b[32m     12\u001b[39m     \u001b[38;5;28mself\u001b[39m.endNum=\u001b[38;5;28mself\u001b[39m.gameMode()\n\u001b[32m---> \u001b[39m\u001b[32m14\u001b[39m     \u001b[38;5;28mself\u001b[39m.rand_number=\u001b[43mrandom\u001b[49m\u001b[43m.\u001b[49m\u001b[43mrandint\u001b[49m\u001b[43m(\u001b[49m\u001b[38;5;28;43mself\u001b[39;49m\u001b[43m.\u001b[49m\u001b[43mstartNum\u001b[49m\u001b[43m,\u001b[49m\u001b[43m \u001b[49m\u001b[38;5;28;43mself\u001b[39;49m\u001b[43m.\u001b[49m\u001b[43mendNum\u001b[49m\u001b[43m)\u001b[49m\n\u001b[32m     16\u001b[39m     \u001b[38;5;28;01mfor\u001b[39;00m i \u001b[38;5;129;01min\u001b[39;00m \u001b[38;5;28mrange\u001b[39m(\u001b[32m4\u001b[39m):\n\u001b[32m     17\u001b[39m         \u001b[38;5;28;01mtry\u001b[39;00m:\n",
      "\u001b[36mFile \u001b[39m\u001b[32mc:\\Users\\Waheed khan\\AppData\\Local\\Programs\\Python\\Python313\\Lib\\random.py:340\u001b[39m, in \u001b[36mRandom.randint\u001b[39m\u001b[34m(self, a, b)\u001b[39m\n\u001b[32m    336\u001b[39m \u001b[38;5;28;01mdef\u001b[39;00m\u001b[38;5;250m \u001b[39m\u001b[34mrandint\u001b[39m(\u001b[38;5;28mself\u001b[39m, a, b):\n\u001b[32m    337\u001b[39m \u001b[38;5;250m    \u001b[39m\u001b[33;03m\"\"\"Return random integer in range [a, b], including both end points.\u001b[39;00m\n\u001b[32m    338\u001b[39m \u001b[33;03m    \"\"\"\u001b[39;00m\n\u001b[32m--> \u001b[39m\u001b[32m340\u001b[39m     \u001b[38;5;28;01mreturn\u001b[39;00m \u001b[38;5;28mself\u001b[39m.randrange(a, \u001b[43mb\u001b[49m\u001b[43m+\u001b[49m\u001b[32;43m1\u001b[39;49m)\n",
      "\u001b[31mTypeError\u001b[39m: unsupported operand type(s) for +: 'NoneType' and 'int'"
     ]
    }
   ],
   "source": [
    "import random\n",
    "\n",
    "class Guess_number:\n",
    "    \n",
    "    def __init__(self):\n",
    "        self.rand_number=None \n",
    "        self.startNum=1\n",
    "        self.endNum=None\n",
    "\n",
    "\n",
    "    def game(self):\n",
    "        self.endNum=self.gameMode()\n",
    "\n",
    "        self.rand_number=random.randint(self.startNum, self.endNum)\n",
    "\n",
    "        for i in range(4):\n",
    "            try:\n",
    "                user_number=int(input(f\"Guess a number between {self.startNum} to {self.endNum} :\"))\n",
    "            except ValueError:\n",
    "                print(\"Please Enter a valid number\")\n",
    "                continue\n",
    "            \n",
    "            if user_number==self.rand_number:\n",
    "                print(\"You  win the Game\")\n",
    "                print(f\"Your score is {i+1}\")\n",
    "                break\n",
    "\n",
    "            elif user_number>self.rand_number:\n",
    "                self.greaterNum(user_number)\n",
    "\n",
    "            elif user_number<self.rand_number:\n",
    "                self.lessNum(user_number)\n",
    "        else:\n",
    "            print(f\" You lose the game ,The correct number is {self.rand_number}\")\n",
    "\n",
    "\n",
    "        \n",
    "\n",
    "    def greaterNum(self,user_number):\n",
    "        if user_number -self.rand_number in [1,2]:\n",
    "            print(\"Great! Too close\")\n",
    "        else:\n",
    "            print(\"To fare \")\n",
    "\n",
    "\n",
    "\n",
    "    def lessNum(self,user_number):\n",
    "        if self.rand_number + user_number in [1,2]:\n",
    "            print(\"Great! Too close\")\n",
    "        else:\n",
    "            print(\"To fare\")\n",
    "        \n",
    "    def gameMode(self):\n",
    "        mode=input(\"\"\"\n",
    "        Welcome the Guess number Game,\n",
    "        Select the mode and attempt 4 time\n",
    "\n",
    "            i)Basic\n",
    "            ii)Intermediate\n",
    "            iii)Complex\n",
    "\n",
    "            Please enter  the Game : \\n\"\"\").lower()\n",
    "\n",
    "        if mode==\"basic\":\n",
    "            return 10\n",
    "\n",
    "        elif mode==\"intermediate\":\n",
    "            return 15\n",
    "\n",
    "        elif mode==\"complex\":\n",
    "            return 20\n",
    "\n",
    " \n",
    "    \n",
    "\n",
    "Play1=Guess_number()\n",
    "Play1.game()\n",
    "\n"
   ]
  },
  {
   "cell_type": "code",
   "execution_count": null,
   "id": "aaec6824-85cc-409c-9215-8f7240b3e095",
   "metadata": {},
   "outputs": [
    {
     "name": "stdout",
     "output_type": "stream",
     "text": [
      "hhsfjlfldffa\n"
     ]
    }
   ],
   "source": []
  }
 ],
 "metadata": {
  "kernelspec": {
   "display_name": "Python 3",
   "language": "python",
   "name": "python3"
  },
  "language_info": {
   "codemirror_mode": {
    "name": "ipython",
    "version": 3
   },
   "file_extension": ".py",
   "mimetype": "text/x-python",
   "name": "python",
   "nbconvert_exporter": "python",
   "pygments_lexer": "ipython3",
   "version": "3.13.4"
  }
 },
 "nbformat": 4,
 "nbformat_minor": 5
}
