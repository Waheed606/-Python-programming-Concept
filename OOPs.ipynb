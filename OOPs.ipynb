{
 "cells": [
  {
   "cell_type": "markdown",
   "id": "436e67f8-23cb-45b5-87d7-754acad2875f",
   "metadata": {},
   "source": [
    "# OOP Concepts"
   ]
  },
  {
   "cell_type": "markdown",
   "id": "84dcc666-075e-447f-8e63-2045ac67068e",
   "metadata": {},
   "source": [
    "--------"
   ]
  },
  {
   "cell_type": "code",
   "execution_count": 6,
   "id": "5a1913ab-fa96-4d48-bc3a-852d8545635d",
   "metadata": {},
   "outputs": [
    {
     "name": "stdin",
     "output_type": "stream",
     "text": [
      "\n",
      "            Hello,how would you like to proceed\n",
      "            1.Enter 1 to create pin,\n",
      "            2.Enter 2 to deposit,\n",
      "            3.Enter 3 to withdraw,\n",
      "            4.Enter 4 to check the balance,\n",
      "            5.Enter 5 to exit,\n",
      "         1\n",
      "Enter your pin 123\n"
     ]
    },
    {
     "name": "stdout",
     "output_type": "stream",
     "text": [
      "Create pin successfully\n"
     ]
    },
    {
     "name": "stdin",
     "output_type": "stream",
     "text": [
      "\n",
      "            Hello,how would you like to proceed\n",
      "            1.Enter 1 to create pin,\n",
      "            2.Enter 2 to deposit,\n",
      "            3.Enter 3 to withdraw,\n",
      "            4.Enter 4 to check the balance,\n",
      "            5.Enter 5 to exit,\n",
      "         3\n",
      "Enter your pins 123\n",
      "Enter the amount 500\n"
     ]
    },
    {
     "name": "stdout",
     "output_type": "stream",
     "text": [
      "Operation Successfully\n"
     ]
    }
   ],
   "source": [
    "class Atm:\n",
    "\n",
    "    def __init__(self):\n",
    "        self.pin=\"\"\n",
    "        self.balance=5000\n",
    "\n",
    "        self.menu()\n",
    "\n",
    "    def menu(self):\n",
    "        user_input=input(\"\"\"\n",
    "            Hello,how would you like to proceed\n",
    "            1.Enter 1 to create pin,\n",
    "            2.Enter 2 to deposit,\n",
    "            3.Enter 3 to withdraw,\n",
    "            4.Enter 4 to check the balance,\n",
    "            5.Enter 5 to exit,\n",
    "        \"\"\")\n",
    "    \n",
    "\n",
    "        if user_input==\"1\":\n",
    "            self.create_pin()\n",
    "        if user_input==\"2\":\n",
    "            self.deposit()\n",
    "        if user_input==\"3\":\n",
    "            self.withdraw()\n",
    "        if user_input==\"4\":\n",
    "            self.check_balance()\n",
    "        if user_input==\"5\":\n",
    "            print(\"bye\")\n",
    "    \n",
    "\n",
    "    def create_pin(self):\n",
    "        self.pin=input(\"Enter your pin\")\n",
    "        print(\"Create pin successfully\")\n",
    "\n",
    "\n",
    "    def deposit(self):\n",
    "        temp=input(\"Enter your pins\")\n",
    "        if temp==self.pin:\n",
    "            amount=int(input(\"Enter the amount\"))\n",
    "            self.balance=self.balance+amount\n",
    "            print(\"Deposit Successfully\")\n",
    "        else:\n",
    "            print(\"invalid pins\")\n",
    "    \n",
    "    def withdraw(self):\n",
    "        temp=input(\"Enter your pins\")\n",
    "        if temp==self.pin:\n",
    "            amount=int(input(\"Enter the amount\"))\n",
    "            if amount<self.balance:\n",
    "                self.balance=self.balance+amount\n",
    "                print(\"Operation Successfully\")\n",
    "            else:\n",
    "                print(\"insufficient balance\")\n",
    "        else:\n",
    "            print(\"invalid pin\")\n",
    "\n",
    "    def check_balance(self):\n",
    "        temp=input(\"Enter your pins\")\n",
    "        if temp==self.pin:\n",
    "            print(self.balance)\n",
    "        else:\n",
    "            print(\"invalid pin\")\n",
    "\n",
    "\n",
    "h1=Atm()\n",
    "h1.menu()\n",
    "\n"
   ]
  },
  {
   "cell_type": "code",
   "execution_count": null,
   "id": "2fc609b7-947e-4ebe-8846-e5ca12ef782b",
   "metadata": {},
   "outputs": [],
   "source": []
  }
 ],
 "metadata": {
  "kernelspec": {
   "display_name": "Python 3 (ipykernel)",
   "language": "python",
   "name": "python3"
  },
  "language_info": {
   "codemirror_mode": {
    "name": "ipython",
    "version": 3
   },
   "file_extension": ".py",
   "mimetype": "text/x-python",
   "name": "python",
   "nbconvert_exporter": "python",
   "pygments_lexer": "ipython3",
   "version": "3.13.4"
  }
 },
 "nbformat": 4,
 "nbformat_minor": 5
}
