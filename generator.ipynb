{
 "cells": [
  {
   "cell_type": "markdown",
   "id": "f5014819",
   "metadata": {},
   "source": [
    "# Generator"
   ]
  },
  {
   "cell_type": "code",
   "execution_count": 3,
   "id": "3e1e3942",
   "metadata": {},
   "outputs": [
    {
     "name": "stdout",
     "output_type": "stream",
     "text": [
      "first item\n",
      "second item\n",
      "third item\n",
      "four item\n",
      "five item\n"
     ]
    }
   ],
   "source": [
    "def gen1():\n",
    "    yield\"first item\"\n",
    "    yield\"second item\"\n",
    "    yield\"third item\"\n",
    "    yield\"four item\"\n",
    "    yield\"five item\"\n",
    "\n",
    "\n",
    "gen = gen1()\n",
    "\n",
    "print(next(gen))\n",
    "print(next(gen))\n",
    "print(next(gen))\n",
    "print(next(gen))\n",
    "print(next(gen))"
   ]
  },
  {
   "cell_type": "code",
   "execution_count": 11,
   "id": "c4efc313",
   "metadata": {},
   "outputs": [
    {
     "name": "stdout",
     "output_type": "stream",
     "text": [
      "4\n",
      "9\n",
      "16\n",
      "\n",
      "25\n",
      "36\n",
      "49\n"
     ]
    }
   ],
   "source": [
    "def square(start,end):\n",
    "    for i in range(start,end):\n",
    "        yield i**2\n",
    "\n",
    "\n",
    "gen =square(2,8)\n",
    "\n",
    "print(next(gen))\n",
    "print(next(gen))\n",
    "print(next(gen))\n",
    "\n",
    "print()\n",
    "\n",
    "for i in gen:\n",
    "    print(i)\n"
   ]
  },
  {
   "cell_type": "markdown",
   "id": "202fed0b",
   "metadata": {},
   "source": [
    "## Generator comnphresion"
   ]
  },
  {
   "cell_type": "code",
   "execution_count": 13,
   "id": "4980c94a",
   "metadata": {},
   "outputs": [
    {
     "name": "stdout",
     "output_type": "stream",
     "text": [
      "5\n",
      "6\n",
      "7\n",
      "8\n",
      "9\n"
     ]
    }
   ],
   "source": [
    "gen=(i for i in range(5,10))\n",
    "\n",
    "for i in gen:\n",
    "    print(i)"
   ]
  },
  {
   "cell_type": "markdown",
   "id": "698ca7b5",
   "metadata": {},
   "source": [
    " ## Representing memory efficient"
   ]
  },
  {
   "cell_type": "code",
   "execution_count": 16,
   "id": "fe1be952",
   "metadata": {},
   "outputs": [
    {
     "name": "stdout",
     "output_type": "stream",
     "text": [
      "size of list memory :  85176\n",
      "size of generator memory :  200\n"
     ]
    }
   ],
   "source": [
    "import sys\n",
    "\n",
    "l = [i*2 for i in range(1,10000)]\n",
    "\n",
    "gen = (i*2 for i in range(1,10000))\n",
    "\n",
    "print(\"size of list memory : \",sys.getsizeof(l))\n",
    "print(\"size of generator memory : \",sys.getsizeof(gen))"
   ]
  },
  {
   "cell_type": "markdown",
   "id": "dd541969",
   "metadata": {},
   "source": [
    "## Used for infinite streaming"
   ]
  },
  {
   "cell_type": "code",
   "execution_count": 20,
   "id": "9dae0557",
   "metadata": {},
   "outputs": [
    {
     "name": "stdout",
     "output_type": "stream",
     "text": [
      "0\n",
      "2\n",
      "4\n",
      "6\n"
     ]
    }
   ],
   "source": [
    "def all_even():\n",
    "    num=0\n",
    "    while True:\n",
    "        yield num\n",
    "        num+=2\n",
    "\n",
    "gen=all_even()        \n",
    "\n",
    "print(next(gen))\n",
    "print(next(gen))\n",
    "print(next(gen))\n",
    "print(next(gen))"
   ]
  },
  {
   "cell_type": "markdown",
   "id": "0a65b5d4",
   "metadata": {},
   "source": [
    "## chaining the Generator"
   ]
  },
  {
   "cell_type": "code",
   "execution_count": 23,
   "id": "d8741b69",
   "metadata": {},
   "outputs": [
    {
     "name": "stdout",
     "output_type": "stream",
     "text": [
      "87381\n"
     ]
    }
   ],
   "source": [
    "def fibonacci(num):\n",
    "    x,y=0,1\n",
    "    for i in range(num):\n",
    "        x=y\n",
    "        y=x+y\n",
    "        yield x\n",
    "    \n",
    "\n",
    "def square(nums):\n",
    "\n",
    "    for num in nums:\n",
    "        yield num**2\n",
    "\n",
    "\n",
    "\n",
    "print(sum(square(fibonacci(9))))"
   ]
  }
 ],
 "metadata": {
  "kernelspec": {
   "display_name": "venv",
   "language": "python",
   "name": "python3"
  },
  "language_info": {
   "codemirror_mode": {
    "name": "ipython",
    "version": 3
   },
   "file_extension": ".py",
   "mimetype": "text/x-python",
   "name": "python",
   "nbconvert_exporter": "python",
   "pygments_lexer": "ipython3",
   "version": "3.13.4"
  }
 },
 "nbformat": 4,
 "nbformat_minor": 5
}
