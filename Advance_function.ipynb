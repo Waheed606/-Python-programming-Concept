{
 "cells": [
  {
   "cell_type": "markdown",
   "id": "8223e7b7",
   "metadata": {},
   "source": [
    "## Lambda function"
   ]
  },
  {
   "cell_type": "code",
   "execution_count": 2,
   "id": "c3d6befb",
   "metadata": {},
   "outputs": [
    {
     "name": "stdout",
     "output_type": "stream",
     "text": [
      "6\n"
     ]
    }
   ],
   "source": [
    "# x =lambda arguments: expression\n",
    "\n",
    "x = lambda x,y: x+y\n",
    "\n",
    "print(x(2,4))"
   ]
  },
  {
   "cell_type": "code",
   "execution_count": 5,
   "id": "871361fd",
   "metadata": {},
   "outputs": [
    {
     "name": "stdout",
     "output_type": "stream",
     "text": [
      "4\n",
      "9\n",
      "16\n",
      "25\n"
     ]
    }
   ],
   "source": [
    "x=lambda x: x**2 \n",
    "\n",
    "for i in range(2,6):\n",
    "    print(x(i))"
   ]
  },
  {
   "cell_type": "code",
   "execution_count": 6,
   "id": "9ab85242",
   "metadata": {},
   "outputs": [
    {
     "name": "stdout",
     "output_type": "stream",
     "text": [
      "True\n",
      "False\n"
     ]
    }
   ],
   "source": [
    "x=lambda y: y[0]==\"a\"\n",
    "\n",
    "print(x(\"apple\"))\n",
    "print(x(\"mango\"))"
   ]
  },
  {
   "cell_type": "code",
   "execution_count": 2,
   "id": "86a122fa",
   "metadata": {},
   "outputs": [
    {
     "name": "stdout",
     "output_type": "stream",
     "text": [
      "Even\n",
      "odd\n",
      "Even\n"
     ]
    }
   ],
   "source": [
    "x = lambda y : \"Even\" if y%2==0 else \"odd\"\n",
    "\n",
    "print(x(4))\n",
    "print(x(501))\n",
    "print(x(190))"
   ]
  },
  {
   "cell_type": "markdown",
   "id": "826d15a2",
   "metadata": {},
   "source": [
    "___"
   ]
  },
  {
   "cell_type": "markdown",
   "id": "f9b82f37",
   "metadata": {},
   "source": [
    "## Higher order function"
   ]
  },
  {
   "cell_type": "markdown",
   "id": "704b116e",
   "metadata": {},
   "source": [
    "In a given list we find the sum of even and odd num in list using High order function "
   ]
  },
  {
   "cell_type": "code",
   "execution_count": 1,
   "id": "9fa1f05b",
   "metadata": {},
   "outputs": [
    {
     "name": "stdout",
     "output_type": "stream",
     "text": [
      "The sum of even number in List :  600\n",
      "The sum of odd number in List :  625\n"
     ]
    }
   ],
   "source": [
    "# higher order function \n",
    "\n",
    "def list_sum(function,l):\n",
    "    sum1=0\n",
    "    for i in l:\n",
    "        if function(i):\n",
    "            sum1=sum1+i\n",
    "\n",
    "    return sum1\n",
    "\n",
    "x=lambda x: x%2==0 \n",
    "y=lambda y: y%2!=0 \n",
    "l=[x for x in range(0,50)]\n",
    "\n",
    "print(\"The sum of even number in List : \",list_sum(x,l))\n",
    "print(\"The sum of odd number in List : \",list_sum(y,l))\n"
   ]
  },
  {
   "cell_type": "markdown",
   "id": "4c1cd267",
   "metadata": {},
   "source": [
    "## Map function"
   ]
  },
  {
   "cell_type": "code",
   "execution_count": null,
   "id": "6492062d",
   "metadata": {},
   "outputs": [
    {
     "name": "stdout",
     "output_type": "stream",
     "text": [
      "[1, 4, 9, 16, 25, 36]\n"
     ]
    }
   ],
   "source": [
    "l=[x for x in range(1,7)]\n",
    "\n",
    "square = lambda x: x**2\n",
    "\n",
    "print(list(map(square,l)))"
   ]
  },
  {
   "cell_type": "code",
   "execution_count": 6,
   "id": "59285a1d",
   "metadata": {},
   "outputs": [],
   "source": [
    "students=[\n",
    "    {\n",
    "        \"name\":\"Ali\",\n",
    "        \"Roll_no\":120,\n",
    "        \"address\":\"mardan\"\n",
    "    },{\n",
    "        \"name\":\"Ahmad\",\n",
    "        \"Roll_no\":130,\n",
    "        \"address\":\"nowshera\"\n",
    "    },{\n",
    "        \"name\":\"khan\",\n",
    "        \"Roll_no\":126,\n",
    "        \"address\":\"Peshawar\"\n",
    "    }\n",
    "]"
   ]
  },
  {
   "cell_type": "code",
   "execution_count": 9,
   "id": "086a5bdb",
   "metadata": {},
   "outputs": [
    {
     "name": "stdout",
     "output_type": "stream",
     "text": [
      "['Ali', 'Ahmad', 'khan']\n"
     ]
    }
   ],
   "source": [
    "print(list(map(lambda student: student[\"name\"],students)))"
   ]
  },
  {
   "cell_type": "markdown",
   "id": "7c50776f",
   "metadata": {},
   "source": [
    "## Filter function"
   ]
  },
  {
   "cell_type": "code",
   "execution_count": 10,
   "id": "870d4477",
   "metadata": {},
   "outputs": [
    {
     "name": "stdout",
     "output_type": "stream",
     "text": [
      "[4, 5, 6]\n"
     ]
    }
   ],
   "source": [
    "l=[x for x in range(1,7)]  \n",
    "\n",
    "print(list(filter(lambda x: x>3, l)))"
   ]
  },
  {
   "cell_type": "code",
   "execution_count": 11,
   "id": "d088f0ea",
   "metadata": {},
   "outputs": [
    {
     "name": "stdout",
     "output_type": "stream",
     "text": [
      "['apple', 'cherry']\n"
     ]
    }
   ],
   "source": [
    "a = ['apple', 'banana', 'cherry']\n",
    "\n",
    "print(list(filter(lambda x: \"e\" in x, a)))"
   ]
  },
  {
   "cell_type": "markdown",
   "id": "9e616afa",
   "metadata": {},
   "source": [
    "## Reduce function"
   ]
  },
  {
   "cell_type": "code",
   "execution_count": 13,
   "id": "84a608db",
   "metadata": {},
   "outputs": [
    {
     "name": "stdout",
     "output_type": "stream",
     "text": [
      "21\n"
     ]
    }
   ],
   "source": [
    "import functools\n",
    "\n",
    "l=[x for x in range(1,7)] \n",
    "\n",
    "print(functools.reduce(lambda x,y: x+y,l))"
   ]
  },
  {
   "cell_type": "code",
   "execution_count": null,
   "id": "09762590",
   "metadata": {},
   "outputs": [
    {
     "name": "stdout",
     "output_type": "stream",
     "text": [
      "[50, 51, 52, 53, 54, 55, 56, 57, 58, 59, 60, 61, 62, 63, 64, 65, 66, 67, 68, 69, 70, 71, 72]\n",
      "The greater number in List : 72\n"
     ]
    }
   ],
   "source": [
    "l=[x for x in range(50,73)]\n",
    "\n",
    "print(l)\n",
    "\n",
    "result=functools.reduce(lambda x,y: x if x>y else y ,l)\n",
    "\n",
    "print(f\"The greater number in List : {result}\")"
   ]
  }
 ],
 "metadata": {
  "kernelspec": {
   "display_name": "venv",
   "language": "python",
   "name": "python3"
  },
  "language_info": {
   "codemirror_mode": {
    "name": "ipython",
    "version": 3
   },
   "file_extension": ".py",
   "mimetype": "text/x-python",
   "name": "python",
   "nbconvert_exporter": "python",
   "pygments_lexer": "ipython3",
   "version": "3.13.4"
  }
 },
 "nbformat": 4,
 "nbformat_minor": 5
}
