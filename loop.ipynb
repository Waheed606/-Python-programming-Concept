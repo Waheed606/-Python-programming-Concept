{
 "cells": [
  {
   "cell_type": "markdown",
   "id": "99752d37",
   "metadata": {},
   "source": [
    "# To make loop in Python "
   ]
  },
  {
   "cell_type": "markdown",
   "id": "c1d82fe7",
   "metadata": {},
   "source": [
    " ## understand how loop works"
   ]
  },
  {
   "cell_type": "code",
   "execution_count": 21,
   "id": "1e84df98",
   "metadata": {},
   "outputs": [
    {
     "name": "stdout",
     "output_type": "stream",
     "text": [
      "1\n",
      "2\n",
      "3\n"
     ]
    }
   ],
   "source": [
    "num=[1,2,3]\n",
    "\n",
    "for i in num:\n",
    "    print(i)"
   ]
  },
  {
   "cell_type": "code",
   "execution_count": 23,
   "id": "b7052f14",
   "metadata": {},
   "outputs": [
    {
     "name": "stdout",
     "output_type": "stream",
     "text": [
      "1\n",
      "2\n",
      "3\n"
     ]
    },
    {
     "ename": "StopIteration",
     "evalue": "",
     "output_type": "error",
     "traceback": [
      "\u001b[31m---------------------------------------------------------------------------\u001b[39m",
      "\u001b[31mStopIteration\u001b[39m                             Traceback (most recent call last)",
      "\u001b[36mCell\u001b[39m\u001b[36m \u001b[39m\u001b[32mIn[23]\u001b[39m\u001b[32m, line 10\u001b[39m\n\u001b[32m      8\u001b[39m \u001b[38;5;28mprint\u001b[39m(\u001b[38;5;28mnext\u001b[39m(iterator))\n\u001b[32m      9\u001b[39m \u001b[38;5;28mprint\u001b[39m(\u001b[38;5;28mnext\u001b[39m(iterator))\n\u001b[32m---> \u001b[39m\u001b[32m10\u001b[39m \u001b[38;5;28mprint\u001b[39m(\u001b[38;5;28;43mnext\u001b[39;49m\u001b[43m(\u001b[49m\u001b[43miterator\u001b[49m\u001b[43m)\u001b[49m)\n",
      "\u001b[31mStopIteration\u001b[39m: "
     ]
    }
   ],
   "source": [
    "# step1  iter()\n",
    "\n",
    "iterator =iter(num)\n",
    "\n",
    "# step2  \n",
    "\n",
    "print(next(iterator))\n",
    "print(next(iterator))\n",
    "print(next(iterator))\n",
    "print(next(iterator))"
   ]
  },
  {
   "cell_type": "markdown",
   "id": "26922a63",
   "metadata": {},
   "source": [
    "## to make  our loop "
   ]
  },
  {
   "cell_type": "code",
   "execution_count": 2,
   "id": "280825f3",
   "metadata": {},
   "outputs": [],
   "source": [
    "def my_loop(anyObject):\n",
    "    iterator=iter(anyObject)\n",
    "    while True:\n",
    "        try:\n",
    "            print(next(iterator))\n",
    "        except StopIteration:\n",
    "            break\n"
   ]
  },
  {
   "cell_type": "code",
   "execution_count": 9,
   "id": "a77fbb4b",
   "metadata": {},
   "outputs": [],
   "source": [
    "a = ['apple', 'banana', 'cherry']\n",
    "x = ('apple', 'banana', 'cherry')\n",
    "y = {'apple', 'banana', 'cherry'}\n",
    "z = { \"name\":\"eric\", \"age\":24}\n",
    "r=range(1,50,3)\n"
   ]
  },
  {
   "cell_type": "code",
   "execution_count": 4,
   "id": "abe323f8",
   "metadata": {},
   "outputs": [
    {
     "name": "stdout",
     "output_type": "stream",
     "text": [
      "apple\n",
      "banana\n",
      "cherry\n"
     ]
    }
   ],
   "source": [
    "my_loop(a)"
   ]
  },
  {
   "cell_type": "code",
   "execution_count": 5,
   "id": "8e110b91",
   "metadata": {},
   "outputs": [
    {
     "name": "stdout",
     "output_type": "stream",
     "text": [
      "apple\n",
      "banana\n",
      "cherry\n"
     ]
    }
   ],
   "source": [
    "my_loop(x)"
   ]
  },
  {
   "cell_type": "code",
   "execution_count": 7,
   "id": "829c4cdf",
   "metadata": {},
   "outputs": [
    {
     "name": "stdout",
     "output_type": "stream",
     "text": [
      "banana\n",
      "cherry\n",
      "apple\n"
     ]
    }
   ],
   "source": [
    "my_loop(y)"
   ]
  },
  {
   "cell_type": "code",
   "execution_count": 10,
   "id": "9833a9be",
   "metadata": {},
   "outputs": [
    {
     "name": "stdout",
     "output_type": "stream",
     "text": [
      "1\n",
      "4\n",
      "7\n",
      "10\n",
      "13\n",
      "16\n",
      "19\n",
      "22\n",
      "25\n",
      "28\n",
      "31\n",
      "34\n",
      "37\n",
      "40\n",
      "43\n",
      "46\n",
      "49\n"
     ]
    }
   ],
   "source": [
    "my_loop(r)"
   ]
  }
 ],
 "metadata": {
  "kernelspec": {
   "display_name": "venv",
   "language": "python",
   "name": "python3"
  },
  "language_info": {
   "codemirror_mode": {
    "name": "ipython",
    "version": 3
   },
   "file_extension": ".py",
   "mimetype": "text/x-python",
   "name": "python",
   "nbconvert_exporter": "python",
   "pygments_lexer": "ipython3",
   "version": "3.13.4"
  }
 },
 "nbformat": 4,
 "nbformat_minor": 5
}
