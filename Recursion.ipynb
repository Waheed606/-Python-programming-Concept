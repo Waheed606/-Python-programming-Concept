{
 "cells": [
  {
   "cell_type": "markdown",
   "id": "722f5b6e",
   "metadata": {},
   "source": [
    "# Recursion"
   ]
  },
  {
   "cell_type": "markdown",
   "id": "7058e180",
   "metadata": {},
   "source": [
    "## To check the number is even or odd using recursion."
   ]
  },
  {
   "cell_type": "code",
   "execution_count": 2,
   "id": "1225dfe7",
   "metadata": {},
   "outputs": [
    {
     "name": "stdout",
     "output_type": "stream",
     "text": [
      "odd\n",
      "even\n",
      "even\n",
      "odd\n",
      "even\n"
     ]
    }
   ],
   "source": [
    "def check_num(num1):\n",
    "    if num1%2==0:\n",
    "        return\"even\"\n",
    "    \n",
    "    elif num1%2 != 0:\n",
    "        return \"odd\"\n",
    "\n",
    "    return check_num(num1-1)\n",
    "\n",
    "\n",
    "print(check_num(15))\n",
    "print(check_num(10))\n",
    "print(check_num(2))\n",
    "print(check_num(3))\n",
    "print(check_num(12))"
   ]
  },
  {
   "cell_type": "markdown",
   "id": "76edb4d3",
   "metadata": {},
   "source": [
    "# Tho find the factorial of the number using recursion. "
   ]
  },
  {
   "cell_type": "code",
   "execution_count": 1,
   "id": "a534985b",
   "metadata": {},
   "outputs": [
    {
     "name": "stdout",
     "output_type": "stream",
     "text": [
      "2\n",
      "24\n",
      "120\n",
      "6\n",
      "479001600\n"
     ]
    }
   ],
   "source": [
    "def fact(num):\n",
    "    if num==1:\n",
    "        return 1\n",
    "    \n",
    "    else:\n",
    "         return num *fact(num-1)\n",
    "\n",
    "\n",
    "print(fact(2))\n",
    "print(fact(4))\n",
    "print(fact(5))\n",
    "print(fact(3))\n",
    "print(fact(12))"
   ]
  },
  {
   "cell_type": "markdown",
   "id": "3c3ce5c7",
   "metadata": {},
   "source": []
  }
 ],
 "metadata": {
  "kernelspec": {
   "display_name": "venv",
   "language": "python",
   "name": "python3"
  },
  "language_info": {
   "codemirror_mode": {
    "name": "ipython",
    "version": 3
   },
   "file_extension": ".py",
   "mimetype": "text/x-python",
   "name": "python",
   "nbconvert_exporter": "python",
   "pygments_lexer": "ipython3",
   "version": "3.13.4"
  }
 },
 "nbformat": 4,
 "nbformat_minor": 5
}
