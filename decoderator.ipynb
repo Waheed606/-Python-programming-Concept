{
 "cells": [
  {
   "cell_type": "markdown",
   "id": "0c09a234",
   "metadata": {},
   "source": [
    "# Decorator"
   ]
  },
  {
   "cell_type": "markdown",
   "id": "1d798b93",
   "metadata": {},
   "source": [
    "## Problem -1 Timing function execution\n",
    "\n",
    " Write a decorator that measure the time execution of function take ? "
   ]
  },
  {
   "cell_type": "code",
   "execution_count": 2,
   "id": "0c9722ed",
   "metadata": {},
   "outputs": [],
   "source": [
    "import time\n",
    "\n",
    "def timing_function(func):\n",
    "    def wrapper(*args,**kwargs):\n",
    "        start=time.time()\n",
    "        result= func(*args,**kwargs)\n",
    "        end =time.time()\n",
    "        print(f\"the {func.__name__} run in {end-start} time \")\n",
    "        return result\n",
    "\n",
    "    return wrapper\n",
    "\n",
    "\n"
   ]
  },
  {
   "cell_type": "code",
   "execution_count": 4,
   "id": "9ed5eb49",
   "metadata": {},
   "outputs": [
    {
     "name": "stdout",
     "output_type": "stream",
     "text": [
      "the sleep_func run in 1.001023292541504 time \n",
      "the sleep_func run in 2.0000998973846436 time \n",
      "the sleep_func run in 3.0001232624053955 time \n"
     ]
    }
   ],
   "source": [
    "@timing_function\n",
    "def sleep_func(n):\n",
    "    time.sleep(n)\n",
    "\n",
    "sleep_func(1)\n",
    "sleep_func(2)\n",
    "sleep_func(3)"
   ]
  },
  {
   "cell_type": "markdown",
   "id": "ef00269b",
   "metadata": {},
   "source": [
    "## Problems-2 : Debugging functions calls\n",
    "\n",
    "Create the decorator with the function name and the number arguments when the function is called ?"
   ]
  },
  {
   "cell_type": "code",
   "execution_count": 11,
   "id": "7ef0b31a",
   "metadata": {},
   "outputs": [],
   "source": [
    "def debugging(func):\n",
    "    def wrapper(*args,**kwargs):\n",
    "        args_value=','.join(str(arg) for arg in args)\n",
    "        kw_value=','.join(str(f\"{k}={v} \") for k , v in kwargs.items())\n",
    "        func(*args,**kwargs)\n",
    "        print(f\"Calling : {func.__name__} with args : {args_value} and kwargs {kw_value}\")\n",
    "    return wrapper"
   ]
  },
  {
   "cell_type": "code",
   "execution_count": 12,
   "id": "9a1ed5ce",
   "metadata": {},
   "outputs": [],
   "source": [
    "@debugging\n",
    "def greeting(name, greet=\"hello\"):\n",
    "    print(greet, name)\n",
    "\n",
    "\n",
    "@debugging\n",
    "def hello(name):\n",
    "    print(f\"Hello : {name}\")"
   ]
  },
  {
   "cell_type": "code",
   "execution_count": 13,
   "id": "fb08df60",
   "metadata": {},
   "outputs": [
    {
     "name": "stdout",
     "output_type": "stream",
     "text": [
      "welcome Ali\n",
      "Calling : greeting with args : Ali,welcome and kwargs \n",
      "Hello : Jamal\n",
      "Calling : hello with args : Jamal and kwargs \n"
     ]
    }
   ],
   "source": [
    "greeting(\"Ali\",\"welcome\")\n",
    "\n",
    "hello(\"Jamal\")"
   ]
  }
 ],
 "metadata": {
  "kernelspec": {
   "display_name": "venv",
   "language": "python",
   "name": "python3"
  },
  "language_info": {
   "codemirror_mode": {
    "name": "ipython",
    "version": 3
   },
   "file_extension": ".py",
   "mimetype": "text/x-python",
   "name": "python",
   "nbconvert_exporter": "python",
   "pygments_lexer": "ipython3",
   "version": "3.13.4"
  }
 },
 "nbformat": 4,
 "nbformat_minor": 5
}
