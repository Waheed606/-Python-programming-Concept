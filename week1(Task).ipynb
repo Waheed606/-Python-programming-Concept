{
 "cells": [
  {
   "cell_type": "markdown",
   "id": "052f155d-90fd-4016-95fa-409b9d9ec153",
   "metadata": {},
   "source": [
    "## 1. Print a simple message\n",
    "#### python\n",
    "#### Expected Output: Hello, World!"
   ]
  },
  {
   "cell_type": "code",
   "execution_count": 1,
   "id": "912bbc7b-a21e-4a7a-91c3-1b0092ab3473",
   "metadata": {},
   "outputs": [
    {
     "name": "stdout",
     "output_type": "stream",
     "text": [
      "hello!, word\n"
     ]
    }
   ],
   "source": [
    "print(\"hello!, word\")"
   ]
  },
  {
   "cell_type": "markdown",
   "id": "ffd798ea-c36b-47bd-b7ed-29469b40f5a1",
   "metadata": {},
   "source": [
    "## . Print multiple items in one statement\n",
    "#### python\n",
    "#### Example: Print your name, age, and city\n",
    "#### Expected Output: Name: John, Age: 25, City: New York"
   ]
  },
  {
   "cell_type": "code",
   "execution_count": 10,
   "id": "cd744af6-95fa-43fb-ae23-8955d78e81d7",
   "metadata": {},
   "outputs": [
    {
     "name": "stdout",
     "output_type": "stream",
     "text": [
      "Name :  John Age : 25 City :  New York\n"
     ]
    }
   ],
   "source": [
    "name= \"John\"\n",
    "age= 25\n",
    "city= \"New York\"\n",
    "print(\"Name : \",name,  \"Age :\",age , \"City : \",city)"
   ]
  },
  {
   "cell_type": "markdown",
   "id": "6d3a8a30-242a-4665-9918-287469d0f23b",
   "metadata": {},
   "source": [
    "## 3. Print using escape characters\n",
    "#### python\n",
    "#### Print a multi-line message using \\n\n",
    "#### Expected Output:\n",
    "#### Welcome to Python!\n",
    "#### Let's learn coding."
   ]
  },
  {
   "cell_type": "code",
   "execution_count": 12,
   "id": "cebf51c3-a337-4431-a8d2-0ac6e79c8509",
   "metadata": {},
   "outputs": [
    {
     "name": "stdout",
     "output_type": "stream",
     "text": [
      "Welcome to Python! \n",
      "Let's learn coding.\n"
     ]
    }
   ],
   "source": [
    "print(\"Welcome to Python! \\nLet's learn coding.\")"
   ]
  },
  {
   "cell_type": "markdown",
   "id": "e852beb0-147c-4a81-89b7-213c46abe826",
   "metadata": {},
   "source": [
    "## 4. Print quotes inside a string\n",
    "#### python\n",
    "#### Expected Output: He said, \"Python is amazing!\""
   ]
  },
  {
   "cell_type": "code",
   "execution_count": 1,
   "id": "ed050a54-61d6-4cee-a1b7-be4659f386c1",
   "metadata": {},
   "outputs": [
    {
     "name": "stdout",
     "output_type": "stream",
     "text": [
      "He said ,\"Python is amaing\"\n"
     ]
    }
   ],
   "source": [
    "print('He said ,\"Python is amaing\"')"
   ]
  },
  {
   "cell_type": "markdown",
   "id": "18ac3241-3466-46b6-b940-15946b30c8ad",
   "metadata": {},
   "source": [
    "## 5. Print a pattern using stars\n",
    "#### python\n",
    "#### Expected Output:\n",
    "#### *\n",
    "#### **\n",
    "#### ***\n",
    "#### ****\n",
    "#### *****"
   ]
  },
  {
   "cell_type": "code",
   "execution_count": 5,
   "id": "20d8b38c-7191-4c96-84d4-d159235be286",
   "metadata": {},
   "outputs": [
    {
     "name": "stdout",
     "output_type": "stream",
     "text": [
      "*\n",
      "**\n",
      "***\n",
      "****\n",
      "*****\n",
      "******\n"
     ]
    }
   ],
   "source": [
    "print(\"*\")\n",
    "print(\"**\")\n",
    "print(\"***\")\n",
    "print(\"****\")\n",
    "print(\"*****\")\n",
    "print(\"******\")\n"
   ]
  },
  {
   "cell_type": "markdown",
   "id": "ff1f4e37-de97-49d0-a452-615366f4a084",
   "metadata": {},
   "source": [
    "--- "
   ]
  },
  {
   "cell_type": "markdown",
   "id": "cbdf5e0f-fab9-45ff-bd79-baccc72bae4c",
   "metadata": {},
   "source": [
    "# Intermediate Output Exercises"
   ]
  },
  {
   "cell_type": "markdown",
   "id": "57d9592a-ad0d-48ac-9198-bfb87b33b309",
   "metadata": {},
   "source": [
    "## 6. Formatted string output using f-strings\n",
    "#### python\n",
    "#### Take a name and age as variables and print:\n",
    "#### Hello, my name is John and I am 25 years old."
   ]
  },
  {
   "cell_type": "code",
   "execution_count": 9,
   "id": "dbd446e1-4027-40fa-8efc-d8c492909675",
   "metadata": {
    "scrolled": true
   },
   "outputs": [
    {
     "name": "stdin",
     "output_type": "stream",
     "text": [
      "Enter your name :  jhon\n",
      "Enter your age :  25\n"
     ]
    },
    {
     "name": "stdout",
     "output_type": "stream",
     "text": [
      "Hello, my name is jhon and I am 25 years old \n"
     ]
    }
   ],
   "source": [
    "name = input(\"Enter your name : \")\n",
    "age = input(\"Enter your age : \")\n",
    "print(f\"Hello, my name is {name } and I am {age} years old \")"
   ]
  },
  {
   "cell_type": "markdown",
   "id": "dbee7562-5b32-4649-95b0-84ea6a397f2e",
   "metadata": {},
   "source": [
    "## 7. Print a table\n",
    "#### python\n",
    "#### Print a 5x5 multiplication table in a clean format\n"
   ]
  },
  {
   "cell_type": "code",
   "execution_count": 11,
   "id": "5412c4ce-e658-40a4-b617-10c724955f34",
   "metadata": {},
   "outputs": [
    {
     "name": "stdin",
     "output_type": "stream",
     "text": [
      "Enter the number :  2\n"
     ]
    },
    {
     "name": "stdout",
     "output_type": "stream",
     "text": [
      "2 X 1 = 2\n",
      "2 X 2 = 4\n",
      "2 X 3 = 6\n",
      "2 X 4 = 8\n",
      "2 X 5 = 10\n",
      "2 X 6 = 12\n",
      "2 X 7 = 14\n",
      "2 X 8 = 16\n",
      "2 X 9 = 18\n",
      "2 X 10 = 20\n"
     ]
    }
   ],
   "source": [
    "num=int(input(\"Enter the number : \"))\n",
    "for i in range(1,11,1):\n",
    "    print(f\"{num} X {i} = {i*num}\")"
   ]
  },
  {
   "cell_type": "markdown",
   "id": "0d2ebebd-1853-4e63-ac57-ace5a99b7313",
   "metadata": {},
   "source": [
    "## 8. Align text with padding\n",
    "#### python\n",
    "#### Output three words in a column of width 10\n",
    "#### Example:\n",
    "#### Apple    Banana    Cherry"
   ]
  },
  {
   "cell_type": "code",
   "execution_count": 11,
   "id": "065a1442-25d2-466d-920f-7ebfcabdeba1",
   "metadata": {},
   "outputs": [
    {
     "name": "stdout",
     "output_type": "stream",
     "text": [
      "Apple         Banana         Mango\n",
      "\n"
     ]
    }
   ],
   "source": [
    "#Padding in python\n",
    "\n",
    "# methods 01\n",
    "#center :^\n",
    "#left :<\n",
    "#right :>\n",
    "\n",
    "print(f\"{'Apple' :<10}  {'Banana':^10}  {'Mango':>10}\" )\n",
    "print()\n"
   ]
  },
  {
   "cell_type": "markdown",
   "id": "2fd4de06-3c80-4e8b-923a-a9af8f9fbd90",
   "metadata": {},
   "source": [
    "## 9. Output the result of a simple calculation\n",
    "#### python\n",
    "#### Print: 5 + 7 = 12"
   ]
  },
  {
   "cell_type": "code",
   "execution_count": 1,
   "id": "ecc8ac36-65d6-4b77-93a7-f8791a3da541",
   "metadata": {},
   "outputs": [
    {
     "name": "stdout",
     "output_type": "stream",
     "text": [
      "5 + 7=12\n"
     ]
    }
   ],
   "source": [
    "num1=5\n",
    "num2=7\n",
    "print(f\"{num1} + {num2}={num1+num2}\")"
   ]
  },
  {
   "cell_type": "markdown",
   "id": "1b0c72e1-4f4f-4c2d-b8ca-55be78d0c80d",
   "metadata": {},
   "source": [
    "## 10. Print a formatted receipt\n",
    "#### python\n",
    "#### Use print statements to simulate a store receipt with:\n",
    "#### - Item names\n",
    "#### - Quantity\n",
    "#### - Price\n",
    "#### - Total"
   ]
  },
  {
   "cell_type": "code",
   "execution_count": 3,
   "id": "7aab0625-f18e-47cd-aa35-8300817948fe",
   "metadata": {},
   "outputs": [
    {
     "name": "stdout",
     "output_type": "stream",
     "text": [
      "-item names \n",
      " -Quantity \n",
      " -Price \n",
      " -Total  \n"
     ]
    }
   ],
   "source": [
    "print(\"-item names \\n -Quantity \\n -Price \\n -Total  \")"
   ]
  },
  {
   "cell_type": "markdown",
   "id": "7521f2bf-88cf-4e3d-a718-45fb252e0118",
   "metadata": {},
   "source": [
    "---"
   ]
  },
  {
   "cell_type": "markdown",
   "id": "274acf1f-1a07-446b-ba5d-e4b561183033",
   "metadata": {},
   "source": [
    "# ✅ Basic Keyword Exercises (1–10)\n"
   ]
  },
  {
   "cell_type": "markdown",
   "id": "3ac9f242-636d-46fd-a725-9a42ed395d9a",
   "metadata": {},
   "source": [
    "## Print a list of some common Python keywords."
   ]
  },
  {
   "cell_type": "code",
   "execution_count": 4,
   "id": "9e375a96-3ca3-479b-a90e-cdac19e96301",
   "metadata": {},
   "outputs": [
    {
     "name": "stdout",
     "output_type": "stream",
     "text": [
      "i)  if \n",
      "ii) else \n",
      "iii) match \n",
      "iv)  try \n",
      "v)   catch \n",
      "vi)  input \n",
      "vii) length \n",
      "viii) filter \n",
      "ix)   while \n",
      " x)   for \n"
     ]
    }
   ],
   "source": [
    "print(\n",
    "    \"i)  if \\nii) else \\niii) match \\niv)  try \\nv)   catch \\nvi)  input \\nvii) length \\nviii) filter \\nix)   while \\n x)   for \"\n",
    ")"
   ]
  },
  {
   "cell_type": "markdown",
   "id": "d3aa1822-c319-4d5e-a9ae-9e9089624c0a",
   "metadata": {},
   "source": [
    "## 2. Print three keywords used for conditional statements in Python.\n"
   ]
  },
  {
   "cell_type": "code",
   "execution_count": 5,
   "id": "cc83b7ec-eefc-4170-a4bc-23c362318052",
   "metadata": {},
   "outputs": [
    {
     "name": "stdout",
     "output_type": "stream",
     "text": [
      "if\n",
      "elif\n",
      "else\n"
     ]
    }
   ],
   "source": [
    "print(\"if\")\n",
    "print(\"elif\")\n",
    "print(\"else\")"
   ]
  },
  {
   "cell_type": "markdown",
   "id": "c46e2811-cbc9-4cb4-b4ca-eafa361d88e7",
   "metadata": {},
   "source": [
    "## 3. Print three keywords used in loops."
   ]
  },
  {
   "cell_type": "code",
   "execution_count": 8,
   "id": "c728d38f-a67a-476a-b161-eadfcd90eeb6",
   "metadata": {},
   "outputs": [
    {
     "name": "stdout",
     "output_type": "stream",
     "text": [
      "for \n",
      "while \n",
      "pass \n",
      "continue \n",
      "break \n"
     ]
    }
   ],
   "source": [
    "print(\"for \\nwhile \\npass \\ncontinue \\nbreak \")"
   ]
  },
  {
   "cell_type": "markdown",
   "id": "4a7ecf8e-2d28-444f-9282-b9e97c9e1af8",
   "metadata": {},
   "source": [
    "## 4. Print the Boolean keywords in Python"
   ]
  },
  {
   "cell_type": "code",
   "execution_count": 9,
   "id": "1f0d0723-e13e-456a-b794-05afd91e4975",
   "metadata": {},
   "outputs": [
    {
     "name": "stdout",
     "output_type": "stream",
     "text": [
      "True \n",
      "false \n",
      "and \n",
      "or \n",
      "not \n"
     ]
    }
   ],
   "source": [
    "print(\"True \\nfalse \\nand \\nor \\nnot \")"
   ]
  },
  {
   "cell_type": "markdown",
   "id": "7521c907-7e0d-49cb-be77-e56a48568ed0",
   "metadata": {},
   "source": [
    "## 5.Manually sort and print five keywords alphabetically"
   ]
  },
  {
   "cell_type": "code",
   "execution_count": null,
   "id": "35348a7a-6224-45ae-8575-4ecc659fc39a",
   "metadata": {},
   "outputs": [],
   "source": [
    "key"
   ]
  },
  {
   "cell_type": "markdown",
   "id": "6411f4c2-2ca3-43b9-9b73-f2a2729903fa",
   "metadata": {},
   "source": [
    "## 6. Print the keywords that represent constant values.\n",
    "#### (Expected: True, False, None)"
   ]
  },
  {
   "cell_type": "code",
   "execution_count": 13,
   "id": "59c28c59-f02f-41ba-b939-cd57ef440ce7",
   "metadata": {},
   "outputs": [
    {
     "name": "stdout",
     "output_type": "stream",
     "text": [
      "None\n",
      "False\n",
      "True\n"
     ]
    }
   ],
   "source": [
    "num1=None\n",
    "num2=(0)\n",
    "num3=(1)\n",
    "\n",
    "print(num1)\n",
    "print(bool(num2))\n",
    "print(bool(num3))\n"
   ]
  },
  {
   "cell_type": "markdown",
   "id": "d356e4cc-2541-423a-a002-b62ad20b6315",
   "metadata": {},
   "source": [
    " ## 7.  Print keywords used for flow control.\n",
    "#### (Expected: break, continue, pass)\n"
   ]
  },
  {
   "cell_type": "code",
   "execution_count": 14,
   "id": "e434f113-8cc9-49c3-a248-65310c409d02",
   "metadata": {},
   "outputs": [
    {
     "name": "stdout",
     "output_type": "stream",
     "text": [
      "break, continue, pass\n"
     ]
    }
   ],
   "source": [
    "print(\"break, continue, pass\")"
   ]
  },
  {
   "cell_type": "markdown",
   "id": "b0ba46d5-9c64-429b-b83a-3ac54a881eaa",
   "metadata": {},
   "source": [
    "## 8. Create a print statement that uses the word if as part of the text.\n",
    "#### Example Output: The keyword 'if' is used to check conditions."
   ]
  },
  {
   "cell_type": "code",
   "execution_count": 18,
   "id": "a838a422-cc23-4fc8-af44-04a2f264f477",
   "metadata": {},
   "outputs": [
    {
     "name": "stdin",
     "output_type": "stream",
     "text": [
      "Enter a number to check it is even or odd :  7\n"
     ]
    },
    {
     "name": "stdout",
     "output_type": "stream",
     "text": [
      "the 7 is odd \n"
     ]
    }
   ],
   "source": [
    "num1=int(input(\"Enter a number to check it is even or odd : \"))\n",
    "\n",
    "if (num1%2==0):     \n",
    "    print(f\"The {num1} is even  \")\n",
    "else:\n",
    "    print(f\"the {num1} is odd \") "
   ]
  },
  {
   "cell_type": "markdown",
   "id": "801ff2e1-cf7a-4f16-a9dd-3192276d2473",
   "metadata": {},
   "source": [
    "## 9. Make a table using print that shows 2 columns: Keyword | Use\n",
    "Example:\n",
    "pgsql\n",
    "CopyEdit\n",
    "Keyword | Use \n",
    "---------- | ------------------- \n",
    "if | Conditional check \n",
    "while | Loop \n",
    "break | Exit loop "
   ]
  },
  {
   "cell_type": "code",
   "execution_count": 20,
   "id": "25922c85-e049-4116-9ef2-e118389a981a",
   "metadata": {},
   "outputs": [
    {
     "name": "stdout",
     "output_type": "stream",
     "text": [
      "keyword | uses \n",
      "--------|--------\n",
      "if      | conditional check\n",
      "loop    | loop\n",
      "break   | Exit loop\n"
     ]
    }
   ],
   "source": [
    "print(\"keyword | uses \")\n",
    "print(\"--------|--------\")\n",
    "print(\"if      | conditional check\")\n",
    "print(\"loop    | loop\")\n",
    "print(\"break   | Exit loop\")"
   ]
  },
  {
   "cell_type": "markdown",
   "id": "1e857b65-9164-4387-9265-3313ac12e851",
   "metadata": {},
   "source": [
    "## 10. Print all capital letter versions of 5 keywords.\n",
    "#### e.g., IF, ELSE, WHILE, etc."
   ]
  },
  {
   "cell_type": "code",
   "execution_count": 21,
   "id": "78731c81-454a-46af-a149-9f28eda016ea",
   "metadata": {},
   "outputs": [
    {
     "name": "stdout",
     "output_type": "stream",
     "text": [
      "IF, WHILE, FOR, ELSE, PASS, CATCH\n"
     ]
    }
   ],
   "source": [
    "keyword=\"if, while, for, else, pass, catch\"\n",
    "\n",
    "upperCaseKeyword=keyword.upper()\n",
    "\n",
    "print(upperCaseKeyword)"
   ]
  },
  {
   "cell_type": "markdown",
   "id": "66e17997-476c-4a28-b948-786eb730d465",
   "metadata": {},
   "source": [
    "----"
   ]
  },
  {
   "cell_type": "markdown",
   "id": "23b76f86-828e-40a3-bc37-55991923a6d9",
   "metadata": {},
   "source": [
    "# ✅ Intermediate Conceptual Challenges (11–15)"
   ]
  },
  {
   "cell_type": "markdown",
   "id": "6aad6a21-b2f2-46a0-8231-106e1f4cbbc6",
   "metadata": {},
   "source": [
    "## 11. Make a list (manually) of 10 Python keywords and print it"
   ]
  },
  {
   "cell_type": "code",
   "execution_count": 24,
   "id": "6e158cc8-2db7-4632-9ef8-15531cd09912",
   "metadata": {},
   "outputs": [
    {
     "name": "stdout",
     "output_type": "stream",
     "text": [
      "['if', 'else', 'break', 'for', 'try', 'catch', 'passcontinue', 'while', 'this']\n"
     ]
    }
   ],
   "source": [
    "list=[\n",
    "    \"if\",\n",
    "    \"else\",\n",
    "    \"break\",\n",
    "    \"for\",\n",
    "    \"try\",\n",
    "    \"catch\",\n",
    "    \"pass\"\n",
    "    \"continue\",\n",
    "    \"while\",\n",
    "    \"this\"\n",
    "]\n",
    "\n",
    "print(list)"
   ]
  },
  {
   "cell_type": "markdown",
   "id": "c30128c3-eefe-4db7-821b-d82c4db14012",
   "metadata": {},
   "source": [
    "## 12. Print 5 keywords that cannot be used as variable names"
   ]
  },
  {
   "cell_type": "code",
   "execution_count": 26,
   "id": "07713c69-e3a2-40c1-a8f3-b30753fe5989",
   "metadata": {},
   "outputs": [
    {
     "name": "stdout",
     "output_type": "stream",
     "text": [
      "The keyword cannot to be used as variable\n",
      " if\n",
      " while\n",
      " for\n",
      " class \n",
      " def\n"
     ]
    }
   ],
   "source": [
    "print(\"The keyword cannot to be used as variable\")\n",
    "print(\" if\\n while\\n for\\n class \\n def\")\n"
   ]
  },
  {
   "cell_type": "markdown",
   "id": "3f1d9865-523e-44f7-87ae-f939c3ecde58",
   "metadata": {},
   "source": [
    "## 13. Print a sentence that uses 3 keywords (in plain text).\n",
    "#### Example Output: Python uses if, else, and for to control the flow \n",
    "#### of code.\n"
   ]
  },
  {
   "cell_type": "code",
   "execution_count": 27,
   "id": "d1a09028-8463-475e-aeb9-e6a00c8e9b5d",
   "metadata": {},
   "outputs": [
    {
     "name": "stdin",
     "output_type": "stream",
     "text": [
      "Please enter x :  6\n",
      "Please enter y :  4\n"
     ]
    },
    {
     "name": "stdout",
     "output_type": "stream",
     "text": [
      "6 is greater than 4  \n"
     ]
    }
   ],
   "source": [
    "x=int(input(\"Please enter x : \"))\n",
    "y=int(input(\"Please enter y : \"))\n",
    "\n",
    "if(x>y):\n",
    "    print(f\"{x} is greater than {y}  \")\n",
    "elif(y<x):\n",
    "    print(f\"{y} is greater than {x}  \")\n",
    "else:\n",
    "    print(f\"{x} is equal to {y}  \") "
   ]
  },
  {
   "cell_type": "markdown",
   "id": "bbb8174e-6076-48b7-88a2-8a8f6b05749e",
   "metadata": {},
   "source": [
    "## 15. Write a short explanation (using print) of why we can’t use keywords as variable "
   ]
  },
  {
   "cell_type": "code",
   "execution_count": 29,
   "id": "04478f44-87ed-400e-8093-61bf0534fe66",
   "metadata": {},
   "outputs": [
    {
     "name": "stdout",
     "output_type": "stream",
     "text": [
      "We can't use Python keywords as variable names because they have special meanings.\n"
     ]
    }
   ],
   "source": [
    "print(\"We can't use Python keywords as variable names because they have special meanings.\")"
   ]
  },
  {
   "cell_type": "markdown",
   "id": "a4f81b3c-1c38-420b-be38-f7d4c9988a50",
   "metadata": {},
   "source": [
    "---"
   ]
  },
  {
   "cell_type": "markdown",
   "id": "779b03cf-7805-487c-95af-0a7e301b07bb",
   "metadata": {},
   "source": [
    "## 1. Take the user's name as input and print a welcome message.\n",
    "#### Example:\n",
    "#### Input: John \n",
    "#### Output: Hello, John!\n"
   ]
  },
  {
   "cell_type": "code",
   "execution_count": 30,
   "id": "f98a1b58-88a0-40df-a985-6c030f240aaa",
   "metadata": {},
   "outputs": [
    {
     "name": "stdin",
     "output_type": "stream",
     "text": [
      "What is your name :  john\n"
     ]
    },
    {
     "name": "stdout",
     "output_type": "stream",
     "text": [
      "Hello, john\n"
     ]
    }
   ],
   "source": [
    "name=input(\"What is your name : \")\n",
    "\n",
    "print(\"Hello,\",name)"
   ]
  },
  {
   "cell_type": "markdown",
   "id": "c8fcff89-20da-4712-9ff7-c84739e1fa37",
   "metadata": {},
   "source": [
    "## 2. Take two numbers as input and print their sum."
   ]
  },
  {
   "cell_type": "code",
   "execution_count": 31,
   "id": "c3322616-0b2b-488a-aced-d39b816307da",
   "metadata": {},
   "outputs": [
    {
     "name": "stdin",
     "output_type": "stream",
     "text": [
      "Enter the first number :  8\n",
      "Enter the second number :  -1\n"
     ]
    },
    {
     "name": "stdout",
     "output_type": "stream",
     "text": [
      "7\n"
     ]
    }
   ],
   "source": [
    "num1=int(input(\"Enter the first number : \"))\n",
    "num2=int(input(\"Enter the second number : \"))\n",
    "sum=num1+num2\n",
    "print(sum)"
   ]
  },
  {
   "cell_type": "markdown",
   "id": "c12000ac-adcd-4636-b6f7-f4874614fc93",
   "metadata": {},
   "source": [
    "## 3. Ask the user for their favorite color and print it back"
   ]
  },
  {
   "cell_type": "code",
   "execution_count": 32,
   "id": "c1cab78b-3d84-4d88-9b5b-5034acddd965",
   "metadata": {},
   "outputs": [
    {
     "name": "stdin",
     "output_type": "stream",
     "text": [
      "What is your favorite color : blue\n"
     ]
    },
    {
     "name": "stdout",
     "output_type": "stream",
     "text": [
      "Great ,  blue\n"
     ]
    }
   ],
   "source": [
    "color=input(\"What is your favorite color :\")\n",
    "\n",
    "print(\"Great , \",color)"
   ]
  },
  {
   "cell_type": "markdown",
   "id": "c5097fa7-7677-40e7-8cb8-b86130ac1ccc",
   "metadata": {},
   "source": [
    "## 4. Take the user’s age and print: “You are X years old.”"
   ]
  },
  {
   "cell_type": "code",
   "execution_count": 1,
   "id": "92bfa7dc-dd8d-4fa3-a7a8-4e4ca0d7a6bf",
   "metadata": {},
   "outputs": [
    {
     "name": "stdin",
     "output_type": "stream",
     "text": [
      "What is your age :  9\n"
     ]
    },
    {
     "name": "stdout",
     "output_type": "stream",
     "text": [
      "Your are  9  year old\n"
     ]
    }
   ],
   "source": [
    "age =input(\"What is your age : \")\n",
    "\n",
    "print(\"Your are \",age,\" year old\")"
   ]
  },
  {
   "cell_type": "markdown",
   "id": "2d1c36eb-ed61-4c1c-b0a1-e42fc00fe208",
   "metadata": {},
   "source": [
    "## 5. Ask the user for their city and country, then print: “You live in [City], \n",
    "[Country].”"
   ]
  },
  {
   "cell_type": "code",
   "execution_count": 2,
   "id": "e0de16bb-b2e0-4dd0-adc8-55ef571dcb4f",
   "metadata": {},
   "outputs": [
    {
     "name": "stdin",
     "output_type": "stream",
     "text": [
      "What is your city name :  Nowshera\n",
      "What is your country name :  Pakistan\n"
     ]
    },
    {
     "name": "stdout",
     "output_type": "stream",
     "text": [
      "You are live in  Nowshera Pakistan\n"
     ]
    }
   ],
   "source": [
    "city=input(\"What is your city name : \")\n",
    "country=input(\"What is your country name : \")\n",
    "\n",
    "\n",
    "print(\"You are live in \" , city, country)"
   ]
  },
  {
   "cell_type": "markdown",
   "id": "dddf630e-ec68-4b32-8638-ba3769083900",
   "metadata": {},
   "source": [
    "## 6. Take two numbers as input and print their difference."
   ]
  },
  {
   "cell_type": "code",
   "execution_count": 4,
   "id": "e5258844-2eb0-4d76-9c93-aba866c4202c",
   "metadata": {},
   "outputs": [
    {
     "name": "stdin",
     "output_type": "stream",
     "text": [
      "Enter the first number :  6\n",
      "Enter the second number :  4\n"
     ]
    },
    {
     "name": "stdout",
     "output_type": "stream",
     "text": [
      "2\n"
     ]
    }
   ],
   "source": [
    "num1=int(input(\"Enter the first number : \"))\n",
    "num2=int(input(\"Enter the second number : \"))\n",
    "\n",
    "\n",
    "\n",
    "if(num1>num2):\n",
    "    difference = num1-num2\n",
    "else:\n",
    "    difference = num2-num1\n",
    "\n",
    "\n",
    "print(difference)"
   ]
  },
  {
   "cell_type": "markdown",
   "id": "a732a842-5ff4-4cbf-bac5-12ec0b2259c6",
   "metadata": {},
   "source": [
    "## 7. Take a word as input and print it in uppercase"
   ]
  },
  {
   "cell_type": "code",
   "execution_count": 5,
   "id": "447bb455-55f5-40d4-b5ac-c24d110e08e9",
   "metadata": {},
   "outputs": [
    {
     "name": "stdin",
     "output_type": "stream",
     "text": [
      "Enter the String :  nowshera\n"
     ]
    },
    {
     "name": "stdout",
     "output_type": "stream",
     "text": [
      "NOWSHERA\n"
     ]
    }
   ],
   "source": [
    "string=input(\"Enter the String : \")\n",
    "\n",
    "upperCase =string.upper()\n",
    "print(upperCase)"
   ]
  },
  {
   "cell_type": "markdown",
   "id": "1f318ab8-a36a-4f50-9f0e-e78f6f67ab5f",
   "metadata": {},
   "source": [
    "## 8. Take a sentence from the user and print how many characters it has."
   ]
  },
  {
   "cell_type": "code",
   "execution_count": 1,
   "id": "0b93a366-f829-482a-828c-fc2c5335716e",
   "metadata": {},
   "outputs": [
    {
     "name": "stdout",
     "output_type": "stream",
     "text": [
      "42\n"
     ]
    }
   ],
   "source": [
    "prgph=\"i am using this computer since many years.\"\n",
    "plen=len(prgph)\n",
    "print(plen)"
   ]
  },
  {
   "cell_type": "markdown",
   "id": "24c0b01d-d6ca-4f05-912f-dad1a23063c2",
   "metadata": {
    "jp-MarkdownHeadingCollapsed": true
   },
   "source": [
    "## 9. Take your school name as input and print a message: “I study at [School Name].”"
   ]
  },
  {
   "cell_type": "code",
   "execution_count": 6,
   "id": "1c4dd5b4-654d-4821-aaa0-84701af9cc04",
   "metadata": {},
   "outputs": [
    {
     "name": "stdin",
     "output_type": "stream",
     "text": [
      "What is your School name :  GPGC Nowshera\n"
     ]
    },
    {
     "name": "stdout",
     "output_type": "stream",
     "text": [
      "I study at  GPGC Nowshera\n"
     ]
    }
   ],
   "source": [
    "schName=input(\"What is your School name : \")\n",
    "\n",
    "print(\"I study at \",schName)"
   ]
  },
  {
   "cell_type": "markdown",
   "id": "b0a1510a-b521-4588-a5d7-f7c5c3d6c227",
   "metadata": {},
   "source": [
    "## 10.Take the user’s first name and last name and print the full name"
   ]
  },
  {
   "cell_type": "code",
   "execution_count": 7,
   "id": "ac1791ac-645b-40c5-9e87-3e7c73cb8b67",
   "metadata": {},
   "outputs": [
    {
     "name": "stdin",
     "output_type": "stream",
     "text": [
      "Enter your first name  :  john\n",
      "Enter your last name  :  wick\n"
     ]
    },
    {
     "name": "stdout",
     "output_type": "stream",
     "text": [
      "Hello, john wick\n"
     ]
    }
   ],
   "source": [
    "firstName=input(\"Enter your first name  : \" )\n",
    "lastName=input(\"Enter your last name  : \" )\n",
    "\n",
    "print(f\"Hello, {firstName} {lastName}\")"
   ]
  },
  {
   "cell_type": "markdown",
   "id": "f5ff6687-d34b-4d58-9675-3c254e75d0a7",
   "metadata": {},
   "source": [
    "## 11. Take the user’s age and print how old they will be after 5 years."
   ]
  },
  {
   "cell_type": "code",
   "execution_count": 8,
   "id": "f3fc998f-ccd6-4fad-b8d1-30d347e861a6",
   "metadata": {},
   "outputs": [
    {
     "name": "stdin",
     "output_type": "stream",
     "text": [
      "Enter your age :  5\n"
     ]
    },
    {
     "name": "stdout",
     "output_type": "stream",
     "text": [
      "You will be  10  old after fiver years\n"
     ]
    }
   ],
   "source": [
    "age =int(input(\"Enter your age : \"))\n",
    "\n",
    "newAge=age+5\n",
    "\n",
    "print(\"You will be \",newAge,\" old after fiver years\")"
   ]
  },
  {
   "cell_type": "markdown",
   "id": "65a47331-c649-4021-a17d-3fec73a2a683",
   "metadata": {},
   "source": [
    "## 12. Ask the user for two numbers and print their product."
   ]
  },
  {
   "cell_type": "code",
   "execution_count": 9,
   "id": "8acd4344-31e8-4c8f-95cd-e8d8f2ebee2d",
   "metadata": {},
   "outputs": [
    {
     "name": "stdin",
     "output_type": "stream",
     "text": [
      "Enter the first number :  4\n",
      "Enter the second number :  4\n"
     ]
    },
    {
     "name": "stdout",
     "output_type": "stream",
     "text": [
      "16\n"
     ]
    }
   ],
   "source": [
    "num1=int(input(\"Enter the first number : \"))\n",
    "num2=int(input(\"Enter the second number : \"))\n",
    "\n",
    "product=num1*num2\n",
    "\n",
    "print(product)"
   ]
  },
  {
   "cell_type": "markdown",
   "id": "8f168f58-da60-462c-bff9-554768515102",
   "metadata": {},
   "source": [
    "## 13.Take a name and a hobby from the user and print a sentence: “Alex likes painting.”"
   ]
  },
  {
   "cell_type": "code",
   "execution_count": 10,
   "id": "f0d9e140-f508-4ad2-a192-836dd188715e",
   "metadata": {},
   "outputs": [
    {
     "name": "stdin",
     "output_type": "stream",
     "text": [
      "Enter is Your name :  john\n",
      "What is Your hobbies :  cricket\n"
     ]
    },
    {
     "name": "stdout",
     "output_type": "stream",
     "text": [
      "john  likes  cricket\n"
     ]
    }
   ],
   "source": [
    "name=input(\"Enter is Your name : \")\n",
    "hobbies=input(\"What is Your hobbies : \")\n",
    "\n",
    "print(name ,\" likes \",hobbies)"
   ]
  },
  {
   "cell_type": "markdown",
   "id": "a6b0ab08-6610-4e9e-b432-5efbfa6b7464",
   "metadata": {},
   "source": [
    "---"
   ]
  },
  {
   "cell_type": "markdown",
   "id": "a94dc23e-18fa-4d8b-a6bc-0cb50401fdc7",
   "metadata": {},
   "source": [
    "## 1. Convert a string \"10\" to an integer and add 5 to it.\n",
    "#### Expected Output: 15"
   ]
  },
  {
   "cell_type": "code",
   "execution_count": 12,
   "id": "85edd984-a4ef-4bc8-a3ed-b39e278c25b0",
   "metadata": {},
   "outputs": [
    {
     "name": "stdout",
     "output_type": "stream",
     "text": [
      "15\n"
     ]
    }
   ],
   "source": [
    "str=\"10\"\n",
    "\n",
    "integer=int(str)+5\n",
    "\n",
    "print(integer)"
   ]
  },
  {
   "cell_type": "markdown",
   "id": "a288e0ee-0596-432a-971a-24b8363d4240",
   "metadata": {},
   "source": [
    "## 2. Take a float number (like 7.9) as a string and convert it to a float."
   ]
  },
  {
   "cell_type": "code",
   "execution_count": 13,
   "id": "3d4931d9-b1ad-4ae2-a0e1-67db99553413",
   "metadata": {},
   "outputs": [
    {
     "name": "stdout",
     "output_type": "stream",
     "text": [
      "7.9\n",
      "<class 'float'>\n"
     ]
    }
   ],
   "source": [
    "str=\"7.9\"\n",
    "\n",
    "floatNumber=float(str)\n",
    "\n",
    "print(floatNumber)\n",
    "\n",
    "print(type(floatNumber))"
   ]
  },
  {
   "cell_type": "markdown",
   "id": "c34eda94-cc72-4c8a-9eaa-f1b769787b67",
   "metadata": {},
   "source": [
    "## 3. Convert an integer 5 into a string and print \"The number is 5\" using string concatenation."
   ]
  },
  {
   "cell_type": "code",
   "execution_count": 6,
   "id": "7c3d8e4b-26f7-4798-84eb-db89661e5fe9",
   "metadata": {},
   "outputs": [
    {
     "name": "stdout",
     "output_type": "stream",
     "text": [
      "<class 'int'>\n",
      "The number is  5 \n",
      "<class 'str'>\n"
     ]
    }
   ],
   "source": [
    "integerNumber=5\n",
    "\n",
    "print(type(integerNumber))\n",
    "\n",
    "string=str(integerNumber)\n",
    "\n",
    "print(f\"The number is  {string} \")\n",
    "\n",
    "\n",
    "print(type(string))"
   ]
  },
  {
   "cell_type": "markdown",
   "id": "a0ed9c50-4d4c-4d1f-b5d6-c55c173c6ebc",
   "metadata": {},
   "source": [
    "## 4. Convert a float 3.14 to an integer and print the result.\n"
   ]
  },
  {
   "cell_type": "code",
   "execution_count": 16,
   "id": "1eb4e63e-344b-4c55-baf9-0ba0f422e9be",
   "metadata": {},
   "outputs": [
    {
     "name": "stdin",
     "output_type": "stream",
     "text": [
      "Enter the first number :  3.14\n"
     ]
    },
    {
     "name": "stdout",
     "output_type": "stream",
     "text": [
      "<class 'float'>\n",
      "3\n",
      "<class 'int'>\n"
     ]
    }
   ],
   "source": [
    "num1=float(input(\"Enter the first number : \"))\n",
    "\n",
    "print(type(num1))\n",
    "\n",
    "integerNUmber=int(num1)\n",
    "\n",
    "print(integerNUmber)\n",
    "\n",
    "print(type(integerNUmber))"
   ]
  },
  {
   "cell_type": "markdown",
   "id": "7487d193-7752-4d62-acce-ce5b6eb13d75",
   "metadata": {},
   "source": [
    "## 5. Convert an integer 1 to a boolean and print the result.\n",
    "#### Hint: bool(1) returns True"
   ]
  },
  {
   "cell_type": "code",
   "execution_count": 17,
   "id": "071ad314-040d-4f76-be11-209bc89dc307",
   "metadata": {},
   "outputs": [
    {
     "name": "stdout",
     "output_type": "stream",
     "text": [
      "<class 'int'>\n",
      "True\n",
      "<class 'bool'>\n"
     ]
    }
   ],
   "source": [
    "num1=1\n",
    "print(type(num1))\n",
    "\n",
    "boolValue=bool(num1)\n",
    "\n",
    "print(boolValue)\n",
    "\n",
    "print(type(boolValue))"
   ]
  },
  {
   "cell_type": "markdown",
   "id": "486ac1ce-227c-4bb1-ac26-0f6e02640d90",
   "metadata": {},
   "source": [
    "## 6. Convert the string \"False\" to a boolean. What happens?"
   ]
  },
  {
   "cell_type": "code",
   "execution_count": 18,
   "id": "3bb3027d-5229-4365-b4ce-8c9c6c0ca1e1",
   "metadata": {},
   "outputs": [
    {
     "name": "stdout",
     "output_type": "stream",
     "text": [
      "<class 'str'>\n",
      "True\n",
      "<class 'bool'>\n"
     ]
    }
   ],
   "source": [
    "string=\"false\"\n",
    "print(type(string))\n",
    "\n",
    "boolValue=bool(string)\n",
    "\n",
    "print(boolValue)\n",
    "\n",
    "print(type(boolValue))"
   ]
  },
  {
   "cell_type": "markdown",
   "id": "ccc6ee62-bd18-4f79-a663-8ac4835ca594",
   "metadata": {},
   "source": [
    "## 7. Take a number from the user as a string, convert it to an integer, and multiply it by 2."
   ]
  },
  {
   "cell_type": "code",
   "execution_count": null,
   "id": "62624dd9-92e9-4845-a28f-8d931bb1aea5",
   "metadata": {},
   "outputs": [],
   "source": []
  },
  {
   "cell_type": "markdown",
   "id": "bfe71c7c-0be3-41b7-97d4-5f8fe169d0ef",
   "metadata": {},
   "source": [
    "## 8. Take a floating-point number input, convert it to an integer, and print both the original and converted values."
   ]
  },
  {
   "cell_type": "code",
   "execution_count": 1,
   "id": "708f16c9-aab8-41f6-81cb-4f3d0d8ef205",
   "metadata": {},
   "outputs": [
    {
     "name": "stdin",
     "output_type": "stream",
     "text": [
      "Enter the first number :  9.5\n"
     ]
    },
    {
     "name": "stdout",
     "output_type": "stream",
     "text": [
      "<class 'float'>\n",
      "9.5\n",
      "9\n",
      "<class 'int'>\n"
     ]
    }
   ],
   "source": [
    "num1=float(input(\"Enter the first number : \"))\n",
    "\n",
    "print(type(num1))\n",
    "\n",
    "integerNUmber=int(num1)\n",
    "print(num1)\n",
    "print(integerNUmber)\n",
    "\n",
    "print(type(integerNUmber))\n"
   ]
  },
  {
   "cell_type": "markdown",
   "id": "d7e96419-341b-4297-b268-31a4eae458c1",
   "metadata": {},
   "source": [
    "## 9. Convert a number to a string and check its type using type().\n"
   ]
  },
  {
   "cell_type": "code",
   "execution_count": 4,
   "id": "ddc770d9-6f3c-43cd-a1a7-70ed680639a3",
   "metadata": {},
   "outputs": [
    {
     "name": "stdin",
     "output_type": "stream",
     "text": [
      "Enter the first number :  8\n"
     ]
    },
    {
     "name": "stdout",
     "output_type": "stream",
     "text": [
      "8.0\n",
      "<class 'str'>\n"
     ]
    }
   ],
   "source": [
    "num1=float(input(\"Enter the first number : \"))\n",
    "strin=str(num1)\n",
    "\n",
    "print(strin)\n",
    "\n",
    "print(type(strin))"
   ]
  },
  {
   "cell_type": "markdown",
   "id": "d9a9b9d7-d5bf-4de9-846a-30efb70f301c",
   "metadata": {},
   "source": [
    "## 11. Take two numbers from the user and add them as integers (not strings)"
   ]
  },
  {
   "cell_type": "code",
   "execution_count": 7,
   "id": "dc621da7-84b4-4e99-b389-5f7942ce9f83",
   "metadata": {},
   "outputs": [
    {
     "name": "stdin",
     "output_type": "stream",
     "text": [
      "Enter the first number :  5\n",
      "Enter the second number :  5\n"
     ]
    },
    {
     "name": "stdout",
     "output_type": "stream",
     "text": [
      "10\n"
     ]
    }
   ],
   "source": [
    "num1=int(input(\"Enter the first number : \"))\n",
    "num2=int(input(\"Enter the second number : \"))\n",
    "\n",
    "sum=num1+num2\n",
    "\n",
    "print(sum)"
   ]
  },
  {
   "cell_type": "markdown",
   "id": "17363e1e-8679-47d8-8be0-eb2e91926349",
   "metadata": {},
   "source": [
    "## 12. Take a string input like \"25.5\" and convert it into both float and int. Print both results."
   ]
  },
  {
   "cell_type": "code",
   "execution_count": 2,
   "id": "8499686a-8509-4ce3-adf6-edc3c09d5cc0",
   "metadata": {},
   "outputs": [
    {
     "name": "stdout",
     "output_type": "stream",
     "text": [
      "25.5\n",
      "<class 'str'>\n",
      "25.5\n",
      "<class 'float'>\n",
      "25\n",
      "<class 'int'>\n"
     ]
    }
   ],
   "source": [
    "string=\"25.5\"\n",
    "\n",
    "print(string)\n",
    "print(type(string))\n",
    "\n",
    "floatNum=float(string)\n",
    "print(floatNum)\n",
    "print(type(floatNum))\n",
    "\n",
    "integer=int(floatNum)\n",
    "print(integer)\n",
    "print(type(integer))\n",
    "\n"
   ]
  },
  {
   "cell_type": "markdown",
   "id": "7aa4812c-61c7-4b39-b676-15aac15f3da5",
   "metadata": {},
   "source": [
    "## 13. Convert a string like \"123abc\" to an integer. What error do you get?\n"
   ]
  },
  {
   "cell_type": "code",
   "execution_count": 15,
   "id": "f6f33ea7-f6bc-402e-901b-c24273600289",
   "metadata": {},
   "outputs": [
    {
     "ename": "ValueError",
     "evalue": "invalid literal for int() with base 10: '123abc'",
     "output_type": "error",
     "traceback": [
      "\u001b[31m---------------------------------------------------------------------------\u001b[39m",
      "\u001b[31mValueError\u001b[39m                                Traceback (most recent call last)",
      "\u001b[36mCell\u001b[39m\u001b[36m \u001b[39m\u001b[32mIn[15]\u001b[39m\u001b[32m, line 3\u001b[39m\n\u001b[32m      1\u001b[39m string=\u001b[33m\"\u001b[39m\u001b[33m123abc\u001b[39m\u001b[33m\"\u001b[39m\n\u001b[32m----> \u001b[39m\u001b[32m3\u001b[39m num1=\u001b[38;5;28;43mint\u001b[39;49m\u001b[43m(\u001b[49m\u001b[43mstring\u001b[49m\u001b[43m)\u001b[49m\n\u001b[32m      6\u001b[39m \u001b[38;5;28mprint\u001b[39m(num1)\n",
      "\u001b[31mValueError\u001b[39m: invalid literal for int() with base 10: '123abc'"
     ]
    }
   ],
   "source": [
    "string=\"123abc\"\n",
    "\n",
    "num1=int(string)\n",
    "\n",
    "print(num1)"
   ]
  },
  {
   "cell_type": "markdown",
   "id": "c178899e-1f14-4c4e-999a-b8c34d8a598e",
   "metadata": {},
   "source": [
    "## 14. Take a string input, check if it’s numeric using .isnumeric(), and then convert to int if it is."
   ]
  },
  {
   "cell_type": "code",
   "execution_count": 16,
   "id": "fab44b9a-d885-4e23-9a98-15650139e00e",
   "metadata": {},
   "outputs": [
    {
     "name": "stdin",
     "output_type": "stream",
     "text": [
      "Enter the first number :  45\n"
     ]
    },
    {
     "name": "stdout",
     "output_type": "stream",
     "text": [
      "<class 'str'>\n",
      "True\n",
      "45\n"
     ]
    }
   ],
   "source": [
    "num1=input(\"Enter the first number : \")\n",
    "\n",
    "print(type(num1))\n",
    "\n",
    "\n",
    "print(num1.isnumeric())\n",
    "\n",
    "print(int(num1))"
   ]
  },
  {
   "cell_type": "markdown",
   "id": "b73b25d5-dfa5-4563-b42d-87d58f471c8e",
   "metadata": {},
   "source": [
    "## 15. Convert a float (e.g., 9.99) to int and then to string. Print each step."
   ]
  },
  {
   "cell_type": "code",
   "execution_count": 20,
   "id": "54eafde4-20cb-4564-9573-0f5bd75ce772",
   "metadata": {},
   "outputs": [
    {
     "name": "stdout",
     "output_type": "stream",
     "text": [
      "<class 'float'>\n",
      "9\n",
      "<class 'int'>\n",
      "9.99\n",
      "<class 'str'>\n"
     ]
    }
   ],
   "source": [
    "num1=9.99\n",
    "\n",
    "print(type(num1))\n",
    "\n",
    "integerNUmber=int(num1)\n",
    "\n",
    "print(integerNUmber)\n",
    "\n",
    "print(type(integerNUmber))\n",
    "\n",
    "string=str(num1)\n",
    "\n",
    "print(string)\n",
    "\n",
    "print(type(string))"
   ]
  },
  {
   "cell_type": "markdown",
   "id": "41ea9a39-f91d-45fd-924e-3f963c44eae9",
   "metadata": {},
   "source": [
    "---"
   ]
  },
  {
   "cell_type": "markdown",
   "id": "1ef75f53-6d0e-42cf-af6e-b664a98b8f79",
   "metadata": {},
   "source": [
    "## 1. Print a string literal that says “Learning Python is fun!”\n"
   ]
  },
  {
   "cell_type": "code",
   "execution_count": 21,
   "id": "b949cef8-4a8a-481b-b106-591d9652623e",
   "metadata": {},
   "outputs": [
    {
     "name": "stdout",
     "output_type": "stream",
     "text": [
      "Learning Python is fun!”\n",
      "<class 'str'>\n",
      "\n"
     ]
    }
   ],
   "source": [
    "string = \"Learning Python is fun!”\"\n",
    "\n",
    "print(string)\n",
    "print(type(string))\n",
    "print()"
   ]
  },
  {
   "cell_type": "markdown",
   "id": "4c36c3f4-c702-4774-8431-e227f1ee2149",
   "metadata": {},
   "source": [
    "## 2. Create and print an integer literal and a float literal.\n",
    "#### Example: 10, 3.14"
   ]
  },
  {
   "cell_type": "code",
   "execution_count": 22,
   "id": "d5c6547b-a681-47d7-b6df-5b7531a0e5ee",
   "metadata": {},
   "outputs": [
    {
     "name": "stdout",
     "output_type": "stream",
     "text": [
      "10\n",
      "<class 'int'>\n",
      "\n",
      "3.14\n",
      "<class 'float'>\n",
      "\n"
     ]
    }
   ],
   "source": [
    "integerNUmber=10\n",
    "\n",
    "print(integerNUmber)\n",
    "print(type(integerNUmber))\n",
    "print()\n",
    "\n",
    "\n",
    "floatNumber=3.14\n",
    "print(floatNumber)\n",
    "print(type(floatNumber))\n",
    "print()"
   ]
  },
  {
   "cell_type": "markdown",
   "id": "fd93d2c7-4aa6-4e3d-8f78-a383c8db4f9c",
   "metadata": {},
   "source": [
    "## 3. Create a string literal using single quotes and another using double quotes. Print both."
   ]
  },
  {
   "cell_type": "code",
   "execution_count": 23,
   "id": "9ca6b94a-7c35-4a7b-8580-d98dc23361b6",
   "metadata": {},
   "outputs": [
    {
     "name": "stdout",
     "output_type": "stream",
     "text": [
      "Learning Python is fun!”\n",
      "Learning Python is fun!”\n"
     ]
    }
   ],
   "source": [
    "string1 = \"Learning Python is fun!”\"\n",
    "string2 = 'Learning Python is fun!”'\n",
    "\n",
    "print(string1)\n",
    "print(string2)"
   ]
  },
  {
   "cell_type": "markdown",
   "id": "9354cb57-a6f3-4ce2-806b-6e8d64a38414",
   "metadata": {},
   "source": [
    "## Create a boolean literal and print it.\n",
    "#### Example: True, False"
   ]
  },
  {
   "cell_type": "code",
   "execution_count": 24,
   "id": "920e7646-d85b-4925-871d-06c156b710b4",
   "metadata": {},
   "outputs": [
    {
     "name": "stdout",
     "output_type": "stream",
     "text": [
      "True\n",
      "False\n"
     ]
    }
   ],
   "source": [
    "bolTrue=True\n",
    "bolFalse=False\n",
    "\n",
    "print(bolTrue)\n",
    "print(bolFalse)"
   ]
  },
  {
   "cell_type": "markdown",
   "id": "bedafb57-2576-4cdb-9447-62c27a828e0e",
   "metadata": {},
   "source": [
    "## 5. Create a variable with the value None and print it."
   ]
  },
  {
   "cell_type": "code",
   "execution_count": 25,
   "id": "fd6e6082-3f65-48a8-b334-39c09bdd6dc2",
   "metadata": {},
   "outputs": [
    {
     "name": "stdout",
     "output_type": "stream",
     "text": [
      "None\n",
      "<class 'NoneType'>\n"
     ]
    }
   ],
   "source": [
    "x1=None\n",
    "print(x1)\n",
    "print(type(x1))"
   ]
  },
  {
   "cell_type": "markdown",
   "id": "0f7f281c-b5e0-4ef8-90c8-a15e0dd70502",
   "metadata": {},
   "source": [
    "## 6. Print the type of the following literals using type():\n",
    "\n",
    "####  \"Hello\"\n",
    "####  10\n",
    "####  3.5\n",
    "####  True\n",
    "####  None"
   ]
  },
  {
   "cell_type": "code",
   "execution_count": 26,
   "id": "04c1c7f5-9766-4da1-a2da-e8aca98bb39d",
   "metadata": {},
   "outputs": [
    {
     "name": "stdout",
     "output_type": "stream",
     "text": [
      "<class 'str'>\n",
      "<class 'int'>\n",
      "<class 'float'>\n",
      "<class 'bool'>\n",
      "<class 'NoneType'>\n"
     ]
    }
   ],
   "source": [
    "print(type(\"hello\"))\n",
    "\n",
    "print(type(10))\n",
    "\n",
    "print(type(3.5))\n",
    "\n",
    "print(type(True))\n",
    "\n",
    "print(type(None))"
   ]
  },
  {
   "cell_type": "markdown",
   "id": "ec19f316-d4bc-4ba9-86aa-6948361d94e3",
   "metadata": {},
   "source": [
    "## 8. Use string concatenation to join two string literals and print the result."
   ]
  },
  {
   "cell_type": "code",
   "execution_count": 27,
   "id": "15869c26-18cd-4b52-a2b1-2b4daa17e087",
   "metadata": {},
   "outputs": [
    {
     "name": "stdout",
     "output_type": "stream",
     "text": [
      "how to learn  Python programming  \n"
     ]
    }
   ],
   "source": [
    "str01=\"how to learn  \"\n",
    "str02=\"Python programming  \"\n",
    "\n",
    "concatenation=str01+str02\n",
    "\n",
    "print(concatenation)"
   ]
  },
  {
   "cell_type": "markdown",
   "id": "a1ff6789-807b-4013-b36c-e0679f4bec86",
   "metadata": {},
   "source": [
    "## 9. Print a multi-line string using triple quotes (string literal)"
   ]
  },
  {
   "cell_type": "code",
   "execution_count": 29,
   "id": "35552e25-e850-420f-94e0-343da4a1d9cc",
   "metadata": {},
   "outputs": [
    {
     "name": "stdout",
     "output_type": "stream",
     "text": [
      "Python is easy \n",
      "'''programming Languages'''\n"
     ]
    }
   ],
   "source": [
    "print(\"Python is easy \\n'''programming Languages'''\")"
   ]
  },
  {
   "cell_type": "markdown",
   "id": "323dfcd8-9f9e-4d72-bf10-3392cd0fd8e1",
   "metadata": {},
   "source": [
    "## 10. Create a list of mixed literals: a number, a string, and a boolean. Print it."
   ]
  },
  {
   "cell_type": "code",
   "execution_count": 33,
   "id": "10169e98-b9af-416f-98b5-66fc3e53927a",
   "metadata": {},
   "outputs": [
    {
     "name": "stdout",
     "output_type": "stream",
     "text": [
      "[10, 'string', True]\n"
     ]
    }
   ],
   "source": [
    "list=[10,\"string\",True]\n",
    "\n",
    "print(list)"
   ]
  },
  {
   "cell_type": "markdown",
   "id": "f54ff8a5-3e2f-4de3-bddd-6baa378824fd",
   "metadata": {},
   "source": [
    "## 12. What is the output of: print(None == 0) and print(None == False)? Try."
   ]
  },
  {
   "cell_type": "code",
   "execution_count": 31,
   "id": "f510e428-ceb0-4fa7-b4d0-d1a3638cc4c1",
   "metadata": {},
   "outputs": [
    {
     "name": "stdout",
     "output_type": "stream",
     "text": [
      "False\n",
      "False\n"
     ]
    }
   ],
   "source": [
    "print(None==0)\n",
    "print(None==False)"
   ]
  },
  {
   "cell_type": "markdown",
   "id": "2a3257a3-37d6-4885-8514-bd755335aa21",
   "metadata": {},
   "source": [
    "----------------------------------------------------"
   ]
  },
  {
   "cell_type": "code",
   "execution_count": null,
   "id": "e2e30f5d-203f-45df-84bd-0a3d119deed8",
   "metadata": {},
   "outputs": [],
   "source": []
  }
 ],
 "metadata": {
  "kernelspec": {
   "display_name": "Python 3 (ipykernel)",
   "language": "python",
   "name": "python3"
  },
  "language_info": {
   "codemirror_mode": {
    "name": "ipython",
    "version": 3
   },
   "file_extension": ".py",
   "mimetype": "text/x-python",
   "name": "python",
   "nbconvert_exporter": "python",
   "pygments_lexer": "ipython3",
   "version": "3.13.4"
  }
 },
 "nbformat": 4,
 "nbformat_minor": 5
}
