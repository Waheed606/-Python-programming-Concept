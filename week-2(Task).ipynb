{
 "cells": [
  {
   "cell_type": "markdown",
   "id": "efd5a829-241b-4b4f-94dd-a0fa45456aac",
   "metadata": {},
   "source": [
    "# 1. If and Nested If-Else Statements\n",
    "## 1. Grade Evaluator\n",
    "#### Input student marks and output grades:\n",
    "#### o =90: A\n",
    "#### o 80–89: B\n",
    "#### o 70–79: C\n",
    "#### o <70: F\n"
   ]
  },
  {
   "cell_type": "code",
   "execution_count": 7,
   "id": "1242d7cf-945c-4cf2-a87f-97047d9ec7cb",
   "metadata": {},
   "outputs": [
    {
     "name": "stdin",
     "output_type": "stream",
     "text": [
      "Enter the grade :  45\n"
     ]
    },
    {
     "name": "stdout",
     "output_type": "stream",
     "text": [
      "F\n"
     ]
    }
   ],
   "source": [
    "grade=int(input(\"Enter the grade : \"))\n",
    "if(grade>=90 and grade<=100):\n",
    "    print(\"A\")\n",
    "elif(grade>=80 and grade<90):\n",
    "    print(\"B\")\n",
    "elif(grade>=70 and grade<80):\n",
    "    print(\"C\")\n",
    "else:\n",
    "    print(\"F\")"
   ]
  },
  {
   "cell_type": "markdown",
   "id": "c5dce48e-31b7-43f4-92ea-9e00976f43c3",
   "metadata": {},
   "source": [
    "## 1 Leap Year Checker\n",
    "#### Check if a given year is a leap year using nested if-else."
   ]
  },
  {
   "cell_type": "code",
   "execution_count": 12,
   "id": "35f39aac-e894-4fd2-ae7b-cfdf4b15ff3d",
   "metadata": {},
   "outputs": [
    {
     "name": "stdin",
     "output_type": "stream",
     "text": [
      "Enter the Enter :  2024\n"
     ]
    },
    {
     "name": "stdout",
     "output_type": "stream",
     "text": [
      " leap year \n"
     ]
    }
   ],
   "source": [
    "year=int(input(\"Enter the Enter : \"))\n",
    "\n",
    "if(year%4==0):\n",
    "    print(\" leap year \")\n",
    "else:\n",
    "    print(\"Normal year\")"
   ]
  },
  {
   "cell_type": "markdown",
   "id": "af309a4f-bc56-405e-9ddd-47d01b3a28ef",
   "metadata": {},
   "source": [
    "## 3. Largest of Three Numbers\n",
    "#### Take three numbers and find the largest using nested if-else.\n"
   ]
  },
  {
   "cell_type": "code",
   "execution_count": 15,
   "id": "020ba708-2701-47a4-bf8d-89c95d97240c",
   "metadata": {},
   "outputs": [
    {
     "name": "stdin",
     "output_type": "stream",
     "text": [
      "Enter the number :  8\n",
      "Enter the number :  4\n",
      "Enter the number :  3\n"
     ]
    },
    {
     "name": "stdout",
     "output_type": "stream",
     "text": [
      "8 is largest\n"
     ]
    }
   ],
   "source": [
    "num1=int(input(\"Enter the number : \"))\n",
    "num2=int(input(\"Enter the number : \"))\n",
    "num3=int(input(\"Enter the number : \"))\n",
    "\n",
    "if(num1>num2 and num1>num3):\n",
    "    print(f\"{num1} is largest\")\n",
    "    \n",
    "elif(num2>num1 and num2>num3):\n",
    "    print(f\"{num2} is largest\")\n",
    "    \n",
    "else:\n",
    "    print(f\"{num3} is largest\")"
   ]
  },
  {
   "cell_type": "markdown",
   "id": "1aa096ff-485e-476c-aedc-15da96fedd63",
   "metadata": {},
   "source": [
    "## 4. Traffic Light Simulator\n",
    "#### Input a color (red, yellow, or green) and display appropriate action: STOP, WAIT, GO."
   ]
  },
  {
   "cell_type": "code",
   "execution_count": 5,
   "id": "85113bb7-4a4e-461e-beee-8e772c1e3f76",
   "metadata": {},
   "outputs": [
    {
     "name": "stdin",
     "output_type": "stream",
     "text": [
      "Enter the color for traffic light simulator : yEllow\n"
     ]
    },
    {
     "name": "stdout",
     "output_type": "stream",
     "text": [
      "Wait\n"
     ]
    }
   ],
   "source": [
    "color=input(\"Enter the color for traffic light simulator :\")\n",
    "\n",
    "check=color.lower()\n",
    "\n",
    "if(check==\"red\"):\n",
    "    print(\"Stop\")\n",
    "    \n",
    "elif(check==\"yellow\"):\n",
    "    print(\"Wait\")\n",
    "    \n",
    "elif(check==\"green\"):\n",
    "    print(\"Go\")"
   ]
  },
  {
   "cell_type": "markdown",
   "id": "1b25b308-53f3-460e-86cf-38f037aba95d",
   "metadata": {},
   "source": [
    "## 5. Simple Calculator with Conditions\n",
    "#### Accept two numbers and an operator (+, -, *, /) and compute the result using nested conditions."
   ]
  },
  {
   "cell_type": "code",
   "execution_count": 7,
   "id": "cc039296-4f81-43ad-9b3e-a488cd024293",
   "metadata": {},
   "outputs": [
    {
     "name": "stdin",
     "output_type": "stream",
     "text": [
      "Enter the first number  : 6\n",
      "Enter the second number : 2\n",
      "Enter the operator : -\n"
     ]
    },
    {
     "name": "stdout",
     "output_type": "stream",
     "text": [
      "4\n"
     ]
    }
   ],
   "source": [
    "num1=int(input(\"Enter the first number  :\"))\n",
    "num2=int(input(\"Enter the second number :\"))\n",
    "\n",
    "operator=input(\"Enter the operator :\")\n",
    "\n",
    "if(operator==\"+\"):\n",
    "    print(num1+num2)\n",
    "\n",
    "if(operator==\"-\"):\n",
    "    if(num1>num2):\n",
    "        print(num1-num2)\n",
    "\n",
    "    else:\n",
    "        print(num2-num1)\n",
    "\n",
    "if(operator==\"*\"):\n",
    "    print(num1*num2)\n",
    "\n",
    "if(operator==\"/\"):\n",
    "    if(num1>num2):\n",
    "        print(num1/num2)\n",
    "\n",
    "    else:\n",
    "        print(num2/num1)\n",
    "        "
   ]
  },
  {
   "cell_type": "markdown",
   "id": "822c5523-6194-476f-a9c4-86d83767a463",
   "metadata": {},
   "source": [
    "-----------------"
   ]
  },
  {
   "cell_type": "markdown",
   "id": "833c2f3d-0219-416f-afb3-07e00552e4a6",
   "metadata": {},
   "source": [
    "# 2. Loops (for, while)\n",
    "## 1. Sum of First N Numbers\n",
    "#### Input n, output the sum of first n natural numbers using for loop."
   ]
  },
  {
   "cell_type": "code",
   "execution_count": 11,
   "id": "a28a8487-0823-4de4-ab0a-98934ce6a2ed",
   "metadata": {},
   "outputs": [
    {
     "name": "stdin",
     "output_type": "stream",
     "text": [
      "Enter the n  number  : 100\n"
     ]
    },
    {
     "name": "stdout",
     "output_type": "stream",
     "text": [
      "The sum of n  5050\n"
     ]
    }
   ],
   "source": [
    "n=int(input(\"Enter the n  number  :\"))\n",
    "Sum=0\n",
    "for i in range(1,n+1,1):\n",
    "    Sum=Sum+i\n",
    "\n",
    "\n",
    "print(\"The sum of n \",Sum)\n"
   ]
  },
  {
   "cell_type": "markdown",
   "id": "29302196-ef35-4800-9264-04a2b7750a47",
   "metadata": {},
   "source": [
    "## 2. Factorial Finder\n",
    "#### Find the factorial of a number using while loop"
   ]
  },
  {
   "cell_type": "code",
   "execution_count": 7,
   "id": "b8620e38-3aa8-49c1-99a8-1b5a6a5f0321",
   "metadata": {},
   "outputs": [
    {
     "name": "stdin",
     "output_type": "stream",
     "text": [
      "Enter the number to find the factorial  :  5\n"
     ]
    },
    {
     "name": "stdout",
     "output_type": "stream",
     "text": [
      "1\n",
      "2\n",
      "6\n",
      "24\n",
      "120\n"
     ]
    }
   ],
   "source": [
    "number=int(input(\"Enter the number to find the factorial  : \"))\n",
    "\n",
    "fact=1\n",
    "\n",
    "i=1\n",
    "\n",
    "while(i<=number):\n",
    "    fact=fact*i\n",
    "    print(fact)\n",
    "    i+=1\n",
    "\n"
   ]
  },
  {
   "cell_type": "markdown",
   "id": "e2da29b6-632d-4682-aa7b-12ff610fed8a",
   "metadata": {},
   "source": [
    "## 3. Multiplication Table Generator\n",
    "####  Print the multiplication table of a number"
   ]
  },
  {
   "cell_type": "code",
   "execution_count": 12,
   "id": "b5b7afe1-0fdd-4a01-9f3d-ccf5da3c1797",
   "metadata": {},
   "outputs": [
    {
     "name": "stdin",
     "output_type": "stream",
     "text": [
      "Enter the table  number  : 5\n"
     ]
    },
    {
     "name": "stdout",
     "output_type": "stream",
     "text": [
      "5 X 1 = 5\n",
      "5 X 2 = 10\n",
      "5 X 3 = 15\n",
      "5 X 4 = 20\n",
      "5 X 5 = 25\n",
      "5 X 6 = 30\n",
      "5 X 7 = 35\n",
      "5 X 8 = 40\n",
      "5 X 9 = 45\n",
      "5 X 10 = 50\n"
     ]
    }
   ],
   "source": [
    "num1=int(input(\"Enter the table  number  :\"))\n",
    "\n",
    "for i in range(1,11,1):\n",
    "    print(f\"{num1} X {i} = {num1*i}\")"
   ]
  },
  {
   "cell_type": "markdown",
   "id": "f37d2498-4675-4393-bd00-7ab82b610daf",
   "metadata": {},
   "source": [
    "## 4. Fibonacci Series\n",
    "#### Print the first n terms of the Fibonacci sequence."
   ]
  },
  {
   "cell_type": "code",
   "execution_count": 26,
   "id": "d4bb2341-8440-46c3-b601-78af5946513e",
   "metadata": {
    "scrolled": true
   },
   "outputs": [
    {
     "name": "stdin",
     "output_type": "stream",
     "text": [
      "Enter the n prime number  : 10\n"
     ]
    },
    {
     "name": "stdout",
     "output_type": "stream",
     "text": [
      "0\n",
      "1\n",
      "1\n",
      "2\n",
      "3\n",
      "5\n",
      "8\n",
      "13\n",
      "21\n",
      "34\n"
     ]
    }
   ],
   "source": [
    "n=int(input(\"Enter the n prime number  :\"))\n",
    "\n",
    "\n",
    "first=0\n",
    "second=1\n",
    "\n",
    "for i in range(0,n):\n",
    "    print(first)\n",
    "    Sum=first+second\n",
    "    first=second\n",
    "    second=Sum"
   ]
  },
  {
   "cell_type": "markdown",
   "id": "43343ab6-66b2-4e09-9e8b-5cde7318da12",
   "metadata": {},
   "source": [
    "## 5. Prime Number Between 1 to N\n",
    "#### Input n, print all prime numbers up to n.\n"
   ]
  },
  {
   "cell_type": "code",
   "execution_count": 22,
   "id": "27e9d0ca-0480-4665-81f5-c56ea027df72",
   "metadata": {},
   "outputs": [
    {
     "name": "stdin",
     "output_type": "stream",
     "text": [
      "Enter the n prime number  : 30\n"
     ]
    },
    {
     "name": "stdout",
     "output_type": "stream",
     "text": [
      "2\n",
      "3\n",
      "5\n",
      "7\n",
      "11\n",
      "13\n",
      "17\n",
      "19\n",
      "23\n",
      "29\n"
     ]
    }
   ],
   "source": [
    "n=int(input(\"Enter the n prime number  :\"))\n",
    "\n",
    "\n",
    "for i in range(2,n+1):\n",
    "    is_prime=True\n",
    "    for j in range(2,i):\n",
    "        if(i%j==0):\n",
    "            is_prime=False\n",
    "    if is_prime:\n",
    "        print(i)\n",
    "\n"
   ]
  },
  {
   "cell_type": "markdown",
   "id": "d48c51c1-2c05-4d1d-a0f9-7a186afe336a",
   "metadata": {},
   "source": [
    "-----------------"
   ]
  },
  {
   "cell_type": "markdown",
   "id": "f581114d-4b1f-42ed-84e1-6de741e93d46",
   "metadata": {},
   "source": [
    "# 3. Built-in Functions\n",
    "## 1. List Stats\n",
    "#### Given a list of numbers, use built-in functions to find max, min, sum, and average."
   ]
  },
  {
   "cell_type": "code",
   "execution_count": 20,
   "id": "972ee22a-6401-406c-9d97-ddde229900e7",
   "metadata": {},
   "outputs": [
    {
     "name": "stdout",
     "output_type": "stream",
     "text": [
      "max 90\n"
     ]
    }
   ],
   "source": [
    "list=[7,3,5,32,2,90,4]\n",
    "\n",
    "print(\"max\",max(list))\n",
    "\n",
    "print(\"min\",min(list))\n",
    "\n",
    "print(\"sum\",sum(list))\n",
    "\n",
    "print(\"Average\",a)"
   ]
  },
  {
   "cell_type": "markdown",
   "id": "19e53b79-48b4-49be-9f21-4aeda46a7d06",
   "metadata": {},
   "source": [
    "## 2. String Case Counter\n",
    "#### Input a string and use built-ins to count uppercase and lowercase letters."
   ]
  },
  {
   "cell_type": "code",
   "execution_count": 27,
   "id": "b3ff8f5a-873c-47c0-a6e5-7d2bf9028084",
   "metadata": {},
   "outputs": [
    {
     "name": "stdin",
     "output_type": "stream",
     "text": [
      "Enter the String :  hello world\n"
     ]
    },
    {
     "name": "stdout",
     "output_type": "stream",
     "text": [
      "\n",
      "HELLO WORLD\n",
      "\n",
      "hello world\n"
     ]
    }
   ],
   "source": [
    "letter=input(\"Enter the String : \")\n",
    "\n",
    "print()\n",
    "print(letter.upper())\n",
    "print()\n",
    "print(letter.lower())"
   ]
  },
  {
   "cell_type": "markdown",
   "id": "41abb026-6dc4-4896-933e-eec04b2b4714",
   "metadata": {},
   "source": [
    "## 3. Sorted Even Numbers\n",
    "#### From a list of integers, extract even numbers and return them sorted in descending order"
   ]
  },
  {
   "cell_type": "code",
   "execution_count": 4,
   "id": "8673fb6b-da62-43d0-ade1-23de238a6060",
   "metadata": {},
   "outputs": [
    {
     "name": "stdout",
     "output_type": "stream",
     "text": [
      "[20, 18, 16, 12, 10, 8, 6, 4, 2]\n"
     ]
    }
   ],
   "source": [
    "even=[4,6,12,16,18,20,2,8,10]\n",
    "\n",
    "print(sorted(even, reverse=True))"
   ]
  },
  {
   "cell_type": "markdown",
   "id": "53263633-6364-4cd4-b031-98671b370f03",
   "metadata": {},
   "source": [
    "## 4. Custom Round-off\n",
    "#### Input a float, round it to two decimal places using built-in round()."
   ]
  },
  {
   "cell_type": "code",
   "execution_count": 34,
   "id": "0c067ac1-85a8-401e-881c-5acd259fb5ee",
   "metadata": {},
   "outputs": [
    {
     "name": "stdout",
     "output_type": "stream",
     "text": [
      "3.142857142857143\n",
      "\n",
      "3.14\n"
     ]
    }
   ],
   "source": [
    "deci=22/7\n",
    "print(deci)\n",
    "print()\n",
    "print(round(deci,2))"
   ]
  },
  {
   "cell_type": "markdown",
   "id": "eb071d12-4bde-40ce-be58-9dae4dd1a912",
   "metadata": {},
   "source": [
    "## 5. ASCII Value Finder\n",
    "#### Input a character and find its ASCII value using ord()."
   ]
  },
  {
   "cell_type": "code",
   "execution_count": 5,
   "id": "2bc3b21d-f45c-4486-8ac8-c021579d9669",
   "metadata": {},
   "outputs": [
    {
     "name": "stdin",
     "output_type": "stream",
     "text": [
      "Enter the character :  r\n"
     ]
    },
    {
     "name": "stdout",
     "output_type": "stream",
     "text": [
      "114\n"
     ]
    }
   ],
   "source": [
    "char=input(\"Enter the character : \")\n",
    "\n",
    "print(ord(char))"
   ]
  },
  {
   "cell_type": "markdown",
   "id": "b80d0cbf-83c8-4266-ae1e-9107f2395ca1",
   "metadata": {},
   "source": [
    "-----"
   ]
  },
  {
   "cell_type": "markdown",
   "id": "1e39d31f-8ca0-435b-b71c-f2b0787b18ba",
   "metadata": {},
   "source": [
    "## 4.Strings and String Operations\n",
    "#### 1. Palindrome Checker\n",
    "#### Check if the input string is a palindrome (e.g., madam, racecar)"
   ]
  },
  {
   "cell_type": "code",
   "execution_count": 16,
   "id": "1ed14535-fc2a-4929-bcb8-b97bdc88283d",
   "metadata": {},
   "outputs": [
    {
     "name": "stdin",
     "output_type": "stream",
     "text": [
      "Enter the string :  madam\n"
     ]
    },
    {
     "name": "stdout",
     "output_type": "stream",
     "text": [
      "The string is palindrome\n"
     ]
    }
   ],
   "source": [
    "string=input(\"Enter the string : \")\n",
    "\n",
    "if(string==string[::-1]):\n",
    "    print(\"The string is palindrome\")\n",
    "else:\n",
    "      print(\"The string is not  palindrome\")"
   ]
  },
  {
   "cell_type": "markdown",
   "id": "c78f9f1e-2d08-45e6-bbe0-2a090203c169",
   "metadata": {},
   "source": [
    "## 2. Word Frequency Counter\n",
    "#### Count the frequency of each word in a sentence"
   ]
  },
  {
   "cell_type": "code",
   "execution_count": 40,
   "id": "d70fba53-70c6-4eb8-8afb-d925d57973da",
   "metadata": {},
   "outputs": [
    {
     "name": "stdout",
     "output_type": "stream",
     "text": [
      "i : 3\n",
      "m : 5\n"
     ]
    }
   ],
   "source": [
    "string=\"this is most common programming language \"\n",
    "\n",
    "print(\"i :\",string.count(\"i\"))\n",
    "print(\"m :\",string.count(\"m\"))"
   ]
  },
  {
   "cell_type": "markdown",
   "id": "049f715e-2b51-4cb8-8a41-23f7823af7d9",
   "metadata": {},
   "source": [
    "## 3. Vowel and Consonant Counter\n",
    "#### Count how many vowels and consonants are in a string.\n",
    "\n"
   ]
  },
  {
   "cell_type": "code",
   "execution_count": 20,
   "id": "7ad92497-1bfa-42ae-8f1c-6c166e541227",
   "metadata": {},
   "outputs": [
    {
     "name": "stdin",
     "output_type": "stream",
     "text": [
      "Enter the string :  hello\n"
     ]
    },
    {
     "name": "stdout",
     "output_type": "stream",
     "text": [
      "Vowels  2\n",
      "Consonants  3\n"
     ]
    }
   ],
   "source": [
    "string=input(\"Enter the string : \")\n",
    "\n",
    "vowels='aeiou'\n",
    "\n",
    "vowels_count=0\n",
    "consonants_count=0\n",
    "\n",
    "for char in string:\n",
    "    if char.isalpha():\n",
    "        if char in vowels:\n",
    "            vowels_count=vowels_count+1\n",
    "        else:\n",
    "            consonants_count=consonants_count+1\n",
    "\n",
    "\n",
    "print(\"Vowels \" ,vowels_count)\n",
    "print(\"Consonants \" ,consonants_count)"
   ]
  },
  {
   "cell_type": "markdown",
   "id": "7c1e5b2a-a221-4ce8-863a-cf0c3c9a71c0",
   "metadata": {},
   "source": [
    "## 4. Remove Punctuation\n",
    "#### Input a sentence and remove punctuation from it."
   ]
  },
  {
   "cell_type": "code",
   "execution_count": 41,
   "id": "2bc14a7b-e184-4b98-8b3f-715258af977f",
   "metadata": {},
   "outputs": [
    {
     "name": "stdin",
     "output_type": "stream",
     "text": [
      "Enter the Sentence  :  helo!\n"
     ]
    },
    {
     "name": "stdout",
     "output_type": "stream",
     "text": [
      "helo\n"
     ]
    }
   ],
   "source": [
    "string=input(\"Enter the Sentence  : \")\n",
    "\n",
    "print(string.replace(\":\",\"\"))"
   ]
  },
  {
   "cell_type": "markdown",
   "id": "a815c1ec-dd65-45da-91cf-e953caac244f",
   "metadata": {},
   "source": [
    "## 5. Longest Word Finder\n",
    "#### Input a sentence and find the longest word."
   ]
  },
  {
   "cell_type": "code",
   "execution_count": 24,
   "id": "ea4f1f22-cdb0-443b-92cd-d2f0ed95d879",
   "metadata": {},
   "outputs": [
    {
     "name": "stdin",
     "output_type": "stream",
     "text": [
      "Enter the Sentence  :  the python is programming languages \n"
     ]
    },
    {
     "name": "stdout",
     "output_type": "stream",
     "text": [
      "programming\n"
     ]
    }
   ],
   "source": [
    "string=input(\"Enter the Sentence  : \")\n",
    "\n",
    "words=string.split()\n",
    "\n",
    "largest=max(words , key=len)\n",
    "\n",
    "print(largest)"
   ]
  },
  {
   "cell_type": "markdown",
   "id": "9168f0c8-5016-418f-a8fb-37c76619a38a",
   "metadata": {},
   "source": [
    "---"
   ]
  },
  {
   "cell_type": "markdown",
   "id": "a5bb6526-d042-40d1-bea9-c3df50afcf48",
   "metadata": {},
   "source": [
    "# 5. Python Lists\n",
    "## 1. List Reverser\n",
    "#### Reverse a list without using [::-1] or reverse()"
   ]
  },
  {
   "cell_type": "code",
   "execution_count": 56,
   "id": "8cf30675-76de-4d3c-b066-c4d5b4d64d74",
   "metadata": {},
   "outputs": [
    {
     "name": "stdout",
     "output_type": "stream",
     "text": [
      "8\n",
      "7\n",
      "6\n",
      "5\n",
      "4\n",
      "3\n"
     ]
    }
   ],
   "source": [
    "L1=[2,3,4,5,6,7,8]\n",
    "lenth=len(L1)-1\n",
    "for i in range(lenth,0,-1):\n",
    "    print(L1[i])"
   ]
  },
  {
   "cell_type": "markdown",
   "id": "a3754c85-72a4-4250-b4c7-33e8bf2a8ffa",
   "metadata": {},
   "source": [
    "## 2. Duplicate Remover\n",
    "#### Remove all duplicate elements from a list.\n",
    "\n"
   ]
  },
  {
   "cell_type": "code",
   "execution_count": 44,
   "id": "57f6d4da-b075-433b-93a5-a3ec341a3919",
   "metadata": {},
   "outputs": [
    {
     "name": "stdout",
     "output_type": "stream",
     "text": [
      "[2, 3, 1, 5]\n"
     ]
    }
   ],
   "source": [
    "L1=[2,3,2,1,2,5,3,1,5]\n",
    "\n",
    "L2=[]\n",
    "for i in L1:  \n",
    "    if i not in L2:\n",
    "        L2.append(i)\n",
    "\n",
    "print(L2)"
   ]
  },
  {
   "cell_type": "markdown",
   "id": "7b72fb20-5b4f-4429-9238-c40ae764340c",
   "metadata": {},
   "source": [
    "## 3. Second Largest Element\n",
    "#### Find the second largest number in a list."
   ]
  },
  {
   "cell_type": "code",
   "execution_count": 19,
   "id": "758045a2-1968-4c18-a25e-87a47199989f",
   "metadata": {},
   "outputs": [
    {
     "name": "stdout",
     "output_type": "stream",
     "text": [
      "70\n"
     ]
    }
   ],
   "source": [
    "L1=[20,30,40,50,60,70,80,10]\n",
    "\n",
    "L1.sort()\n",
    "\n",
    "print(L1[-2])\n",
    "\n"
   ]
  },
  {
   "cell_type": "markdown",
   "id": "000f5e21-ad4f-457c-818e-7c892c0dd306",
   "metadata": {},
   "source": [
    "## 4. List Element Frequency\n",
    "#### Print the frequency of each element in the list."
   ]
  },
  {
   "cell_type": "code",
   "execution_count": 30,
   "id": "35e2e459-1496-4326-9f04-c0ebe51aa962",
   "metadata": {},
   "outputs": [
    {
     "name": "stdout",
     "output_type": "stream",
     "text": [
      "10 occurs in 3 times\n",
      "20 occurs in 3 times\n",
      "30 occurs in 2 times\n",
      "40 occurs in 1 times\n",
      "50 occurs in 1 times\n"
     ]
    }
   ],
   "source": [
    "number=[10,20,10,20,30,10,30,40,50,20,]\n",
    "\n",
    "frequency={}\n",
    "\n",
    "for num in number:\n",
    "    if num in frequency:\n",
    "        frequency[num]+=1\n",
    "    else:\n",
    "        frequency[num]=1\n",
    "\n",
    "for key in frequency:\n",
    "    print(f\"{key} occurs in {frequency[key]} times\")"
   ]
  },
  {
   "cell_type": "markdown",
   "id": "ccc6a15e-3ed9-4e83-8099-5fc2e3ce44ca",
   "metadata": {},
   "source": [
    "## 5. Merge and Sort Lists\n",
    "#### Merge two lists and sort the result without using sort()."
   ]
  },
  {
   "cell_type": "code",
   "execution_count": 36,
   "id": "3dccf3d5-4074-42ad-8707-64791ddf8db9",
   "metadata": {},
   "outputs": [
    {
     "name": "stdout",
     "output_type": "stream",
     "text": [
      "[1, 2, 3, 4, 5, 6, 7, 8, 9]\n"
     ]
    }
   ],
   "source": [
    "L1=[2,3,4,5,6]\n",
    "L2=[6,7,8,9,1]\n",
    "\n",
    "mergeList=L1+L2\n",
    "\n",
    "newlist=list(set(mergeList))\n",
    "\n",
    "for i in range(len(newlist)):\n",
    "    for j in range(i+1,len(newlist)):\n",
    "        if newlist[i]>newlist[j]:\n",
    "            newlist[i],newlist[j]=newlist[j],newlist[i]\n",
    "\n",
    "\n",
    "print(newlist)"
   ]
  },
  {
   "cell_type": "markdown",
   "id": "33f427c4-b664-419d-9615-76223e8d7d67",
   "metadata": {},
   "source": [
    "----"
   ]
  },
  {
   "cell_type": "markdown",
   "id": "df80c051-1887-4ce2-9bb5-ed0686adc431",
   "metadata": {},
   "source": [
    "# 6. Python Tuples\n",
    "## 1. Tuple Swapper\n",
    "#### Swap the values of two tuples.\n"
   ]
  },
  {
   "cell_type": "code",
   "execution_count": 38,
   "id": "eb9cf873-1fcc-438f-ad69-60bb58ce4174",
   "metadata": {},
   "outputs": [
    {
     "name": "stdout",
     "output_type": "stream",
     "text": [
      "a = (6, 7, 8, 9)\n",
      "b = (2, 3, 4, 5)\n"
     ]
    }
   ],
   "source": [
    "a=(2,3,4,5)\n",
    "b=(6,7,8,9)\n",
    "\n",
    "a,b=b,a\n",
    "\n",
    "print(\"a =\" ,a)\n",
    "print(\"b =\" ,b)\n",
    "\n"
   ]
  },
  {
   "cell_type": "markdown",
   "id": "ea0c6400-7762-4549-856c-4261c3f9138e",
   "metadata": {},
   "source": [
    "## 2. Tuple Reverser\n",
    "#### Reverse a tuple using slicing and verify the result."
   ]
  },
  {
   "cell_type": "code",
   "execution_count": 41,
   "id": "2989bd5a-fd92-4a83-a0bc-30b9c569e260",
   "metadata": {},
   "outputs": [
    {
     "name": "stdout",
     "output_type": "stream",
     "text": [
      "[6, 5, 4, 3, 2]\n"
     ]
    }
   ],
   "source": [
    "L1=[2,3,4,5,6]\n",
    "\n",
    "print(L1[::-1])"
   ]
  },
  {
   "cell_type": "markdown",
   "id": "7b52e1f1-d2be-46b5-b163-ae0ad01560d4",
   "metadata": {},
   "source": [
    "## 3. Tuple to String\n",
    "#### Convert a tuple of characters into a single string."
   ]
  },
  {
   "cell_type": "code",
   "execution_count": 44,
   "id": "d1ef6ef3-8627-4339-936d-28cd2407ecc6",
   "metadata": {},
   "outputs": [
    {
     "name": "stdout",
     "output_type": "stream",
     "text": [
      "python\n"
     ]
    }
   ],
   "source": [
    "T1=('p','y','t','h','o','n')\n",
    "\n",
    "single=''.join(T1)\n",
    "\n",
    "print(single)"
   ]
  },
  {
   "cell_type": "markdown",
   "id": "cf9002c0-32d2-4f48-be55-0c2e49f6c873",
   "metadata": {},
   "source": [
    "## 4. Element Index Finder\n",
    "#### Find the index of a user-input value in a tuple."
   ]
  },
  {
   "cell_type": "code",
   "execution_count": 45,
   "id": "dd8682db-7de5-4237-a9a2-3fec2b0fcab5",
   "metadata": {},
   "outputs": [
    {
     "name": "stdout",
     "output_type": "stream",
     "text": [
      "('hello', 'world', 2, 4, 5, 6)\n"
     ]
    },
    {
     "name": "stdin",
     "output_type": "stream",
     "text": [
      "Find the index of value in Tuple :  3\n"
     ]
    },
    {
     "name": "stdout",
     "output_type": "stream",
     "text": [
      "4\n"
     ]
    }
   ],
   "source": [
    "T1=(\"hello\",\"world\",2,4,5,6)\n",
    "print(T1)\n",
    "\n",
    "index=int(input(\"Find the index of value in Tuple : \"))\n",
    "\n",
    "print(T1[index])"
   ]
  },
  {
   "cell_type": "markdown",
   "id": "e733a39f-eb24-450f-819d-f2031eb5d40d",
   "metadata": {},
   "source": [
    "## 5. Immutable Test\n",
    "#### Try modifying a tuple element and observe the error. Explain why it happens"
   ]
  },
  {
   "cell_type": "code",
   "execution_count": 68,
   "id": "e5ff31a0-927b-4d7c-89ad-b33e38991cd9",
   "metadata": {},
   "outputs": [
    {
     "ename": "TypeError",
     "evalue": "'tuple' object does not support item assignment",
     "output_type": "error",
     "traceback": [
      "\u001b[31m---------------------------------------------------------------------------\u001b[39m",
      "\u001b[31mTypeError\u001b[39m                                 Traceback (most recent call last)",
      "\u001b[36mCell\u001b[39m\u001b[36m \u001b[39m\u001b[32mIn[68]\u001b[39m\u001b[32m, line 3\u001b[39m\n\u001b[32m      1\u001b[39m T1=(\u001b[32m2\u001b[39m,\u001b[32m3\u001b[39m,\u001b[32m4\u001b[39m,\u001b[32m5\u001b[39m,\u001b[32m6\u001b[39m)\n\u001b[32m----> \u001b[39m\u001b[32m3\u001b[39m \u001b[43mT1\u001b[49m\u001b[43m[\u001b[49m\u001b[32;43m0\u001b[39;49m\u001b[43m]\u001b[49m=\u001b[32m100\u001b[39m\n\u001b[32m      5\u001b[39m \u001b[38;5;28mprint\u001b[39m(T1)\n",
      "\u001b[31mTypeError\u001b[39m: 'tuple' object does not support item assignment"
     ]
    }
   ],
   "source": [
    "T1=(2,3,4,5,6)\n",
    "\n",
    "T1[0]=100\n",
    "\n",
    "print(T1)"
   ]
  },
  {
   "cell_type": "markdown",
   "id": "52cf1b80-3cfa-4188-9efe-a67b4eac3f68",
   "metadata": {},
   "source": [
    "-----------"
   ]
  },
  {
   "cell_type": "markdown",
   "id": "0a01b5cd-77a4-4ba5-80fe-079421fa2604",
   "metadata": {},
   "source": [
    "# 7. Python Sets\n",
    "## 1. Set Union and Intersection\n",
    "#### Input two sets and print their union and intersection.\n",
    "\n",
    "\n",
    "\n"
   ]
  },
  {
   "cell_type": "code",
   "execution_count": 2,
   "id": "6d49e8be-5607-451e-93c1-2e078d6646d4",
   "metadata": {},
   "outputs": [
    {
     "name": "stdout",
     "output_type": "stream",
     "text": [
      "Union {1, 2, 3, 4, 5, 9}\n",
      "intersection {3, 4}\n"
     ]
    }
   ],
   "source": [
    "S1={2,3,4,5}\n",
    "S2={1,3,4,9}\n",
    "\n",
    "print(\"Union\",S1.union(S2))\n",
    "print(\"intersection\",S1.intersection(S2))"
   ]
  },
  {
   "cell_type": "markdown",
   "id": "01cd0aa3-3fe9-4d8e-8982-ee98b328abe7",
   "metadata": {},
   "source": [
    "## 2. Unique Elements from List\n",
    "#### Convert a list to a set and show how duplicates are removed."
   ]
  },
  {
   "cell_type": "code",
   "execution_count": 47,
   "id": "f7ac6726-b6d6-4b4f-9c2b-bc0c20bfd1dd",
   "metadata": {},
   "outputs": [
    {
     "name": "stdout",
     "output_type": "stream",
     "text": [
      "{1, 2, 3, 4, 5, 6, 7}\n"
     ]
    }
   ],
   "source": [
    "list1=[1,2,3,4,5,6,7,1,2,3]\n",
    "\n",
    "set1=set(list1)\n",
    "\n",
    "print(set1)"
   ]
  },
  {
   "cell_type": "markdown",
   "id": "7e86f657-a242-4d7e-95c0-688c1a3ac9d4",
   "metadata": {},
   "source": [
    "## 3. Subset and Superset Check\n",
    "#### Check whether one set is a subset or superset of another."
   ]
  },
  {
   "cell_type": "code",
   "execution_count": 8,
   "id": "fd844553-d87e-4fef-b640-102f799d1e19",
   "metadata": {},
   "outputs": [
    {
     "name": "stdout",
     "output_type": "stream",
     "text": [
      "True\n",
      "True\n"
     ]
    }
   ],
   "source": [
    "S1={1,3,4,9}\n",
    "S2={3,4}\n",
    "\n",
    "print(S2.issubset(S1))\n",
    "print(S1.issuperset(S2))"
   ]
  },
  {
   "cell_type": "markdown",
   "id": "11b1a9d9-f9be-42a2-8c26-fffc33f5d3f5",
   "metadata": {},
   "source": [
    "## 4. Common Elements Finder\n",
    "#### Given two lists, use sets to find common elements."
   ]
  },
  {
   "cell_type": "code",
   "execution_count": 48,
   "id": "f04b584e-8d32-43c7-a50c-0a942d33579d",
   "metadata": {},
   "outputs": [
    {
     "name": "stdout",
     "output_type": "stream",
     "text": [
      "{6}\n"
     ]
    }
   ],
   "source": [
    "L1=[2,3,4,5,6]\n",
    "L2=[6,7,8,9,1]\n",
    "\n",
    "set1=set(L1)\n",
    "set2=set(L2)\n",
    "\n",
    "common=set1.intersection(set2)\n",
    "\n",
    "print(common)"
   ]
  },
  {
   "cell_type": "markdown",
   "id": "a16ff370-6502-473b-9a4a-d664cf8092e9",
   "metadata": {},
   "source": [
    "## 5. Symmetric Difference Demo\n",
    "#### Show the symmetric difference between two sets and explain its meaning."
   ]
  },
  {
   "cell_type": "code",
   "execution_count": 16,
   "id": "19278f35-b25b-4d37-b38b-a3ec3fd260c6",
   "metadata": {},
   "outputs": [
    {
     "name": "stdout",
     "output_type": "stream",
     "text": [
      "Symmteric diferrence {1, 2, 4, 5, 9, 10}\n"
     ]
    }
   ],
   "source": [
    "S1={2,3,4,5}\n",
    "S2={1,3,10,9}\n",
    "\n",
    "print(\"Symmteric diferrence\",S2.symmetric_difference(S1))"
   ]
  },
  {
   "cell_type": "markdown",
   "id": "a37cb519-4b08-479d-872f-c2eb475cf238",
   "metadata": {},
   "source": [
    "----"
   ]
  },
  {
   "cell_type": "markdown",
   "id": "f09d0824-4ab9-4c31-a58e-9c1a71b9566f",
   "metadata": {},
   "source": [
    "# 8. Python Dictionaries\n",
    "## 1. Student Gradebook\n",
    "#### Store student names and grades in a dictionary. Allow lookup by name.\n",
    "\n",
    "\n",
    "\n"
   ]
  },
  {
   "cell_type": "code",
   "execution_count": 11,
   "id": "c8d3667a-1c73-4f7b-857e-a99b1d50cdc7",
   "metadata": {},
   "outputs": [
    {
     "name": "stdout",
     "output_type": "stream",
     "text": [
      "dict_keys(['Jamal', 'kamal', 'khan'])\n"
     ]
    },
    {
     "name": "stdin",
     "output_type": "stream",
     "text": [
      "Enter the name of Student  :  khan\n"
     ]
    },
    {
     "name": "stdout",
     "output_type": "stream",
     "text": [
      "khan grad is : 95\n"
     ]
    }
   ],
   "source": [
    "gradebook={\n",
    "    \"Jamal\":80,\n",
    "    \"kamal\":90,\n",
    "    \"khan\":95\n",
    "}\n",
    "\n",
    "print(gradebook.keys())\n",
    "\n",
    "name=input(\"Enter the name of Student  : \")\n",
    "\n",
    "\n",
    "print(f\"{name} grad is : {gradebook[name]}\")"
   ]
  },
  {
   "cell_type": "markdown",
   "id": "59c6c4b0-6f3e-4435-a489-a728a3d4c5b1",
   "metadata": {},
   "source": [
    "## 2. Word Counter\n",
    "#### Count occurrences of each word in a paragraph using a dictionary."
   ]
  },
  {
   "cell_type": "code",
   "execution_count": 20,
   "id": "ed7a3668-de1f-4648-b921-ecafa3d0551f",
   "metadata": {},
   "outputs": [
    {
     "name": "stdout",
     "output_type": "stream",
     "text": [
      "{'hello': 1, 'i': 1, 'am': 1, 'using': 1, 'this': 1, 'computer': 1, 'to': 1, 'learn': 1, 'programming': 1, 'languages': 1}\n"
     ]
    }
   ],
   "source": [
    "text=\"hello, I am using this computer , to learn programming languages \"\n",
    "\n",
    "words=text.lower().replace(\",\",\"\").split()\n",
    "\n",
    "count={}\n",
    "\n",
    "for word in words:\n",
    "    count[word]=count.get(word,0)+1\n",
    "\n",
    "print(count)\n"
   ]
  },
  {
   "cell_type": "markdown",
   "id": "af1c92be-6c37-40a5-8e36-103c18be99a7",
   "metadata": {},
   "source": [
    "## 3. Frequency of Characters\n",
    "#### Input a string and count character frequency using a dictionary."
   ]
  },
  {
   "cell_type": "code",
   "execution_count": 14,
   "id": "085d80d2-e329-48c7-84b8-2fa26603fd54",
   "metadata": {},
   "outputs": [
    {
     "name": "stdin",
     "output_type": "stream",
     "text": [
      "Enter the string  : computer\n"
     ]
    },
    {
     "name": "stdout",
     "output_type": "stream",
     "text": [
      "character frequency :  {'c': 1, 'o': 1, 'm': 1, 'p': 1, 'u': 1, 't': 1, 'e': 1, 'r': 1}\n"
     ]
    }
   ],
   "source": [
    "string=input(\"Enter the string  :\")\n",
    "\n",
    "char={}\n",
    "for word in string:\n",
    "    char[word]=char.get(word,0)+1\n",
    "\n",
    "\n",
    "print(\"character frequency : \",char)\n",
    "\n",
    "\n"
   ]
  },
  {
   "cell_type": "markdown",
   "id": "4db2ec66-1d71-4e01-a416-926b294cc577",
   "metadata": {},
   "source": [
    "## 4. Key with Max Value\n",
    "#### From a dictionary of product:price, find the most expensive product."
   ]
  },
  {
   "cell_type": "code",
   "execution_count": 8,
   "id": "23067464-44a9-40a1-9984-12dd17d955c1",
   "metadata": {},
   "outputs": [
    {
     "name": "stdout",
     "output_type": "stream",
     "text": [
      "400\n"
     ]
    }
   ],
   "source": [
    "product={\n",
    "    \"dgwatch\":350,\n",
    "    \"Smwatch\":400,\n",
    "    \"Agwatch\":300\n",
    "}\n",
    "\n",
    "max_product=max(product,key=product.get)\n",
    "\n",
    "print(product[max_product])"
   ]
  },
  {
   "cell_type": "markdown",
   "id": "f0718c2d-68d3-4116-a759-971c6fb718ca",
   "metadata": {},
   "source": [
    "## 5. Merge Dictionaries\n",
    "#### Merge two dictionaries and handle overlapping keys (e.g., sum values if same key)."
   ]
  },
  {
   "cell_type": "code",
   "execution_count": 6,
   "id": "bb495103-160f-4d38-92d4-8dce71926623",
   "metadata": {},
   "outputs": [
    {
     "name": "stdout",
     "output_type": "stream",
     "text": [
      "\n",
      "{'dgwatch': 350, 'Smwatch': 400, 'Agwatch': 300, 'mobile': 5000, 'headphones': 600, 'speaker': 500}\n"
     ]
    }
   ],
   "source": [
    "d1={\n",
    "    \"dgwatch\":350,\n",
    "    \"Smwatch\":400,\n",
    "    \"Agwatch\":300\n",
    "}\n",
    "\n",
    "d2={\n",
    "    \"mobile\":5000,\n",
    "    \"headphones\":600,\n",
    "    \"speaker\":500,\n",
    "}\n",
    "\n",
    "merged=d1.copy()\n",
    "\n",
    "for key ,value in d2.items():\n",
    "    if key in merged:\n",
    "        merged[key]+=value\n",
    "    else:\n",
    "        merged[key]=value\n",
    "\n",
    "print(merged)"
   ]
  },
  {
   "cell_type": "markdown",
   "id": "b468e289-9c9e-4d69-9f20-f8015596e174",
   "metadata": {},
   "source": [
    "------"
   ]
  },
  {
   "cell_type": "code",
   "execution_count": null,
   "id": "d4e4c7fa-a0d5-4cf3-a52c-d97e441997f6",
   "metadata": {},
   "outputs": [],
   "source": []
  }
 ],
 "metadata": {
  "kernelspec": {
   "display_name": "Python 3 (ipykernel)",
   "language": "python",
   "name": "python3"
  },
  "language_info": {
   "codemirror_mode": {
    "name": "ipython",
    "version": 3
   },
   "file_extension": ".py",
   "mimetype": "text/x-python",
   "name": "python",
   "nbconvert_exporter": "python",
   "pygments_lexer": "ipython3",
   "version": "3.13.4"
  }
 },
 "nbformat": 4,
 "nbformat_minor": 5
}
